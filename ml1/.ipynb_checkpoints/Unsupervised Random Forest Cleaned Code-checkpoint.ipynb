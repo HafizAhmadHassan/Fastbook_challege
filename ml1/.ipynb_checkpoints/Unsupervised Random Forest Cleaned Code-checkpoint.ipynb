{
 "cells": [
  {
   "cell_type": "markdown",
   "metadata": {},
   "source": [
    "# Unsupervised Random Forest\n",
    "Calling Sequence  \n",
    " \n",
    "1. make data set unsupervised RF\n",
    "\n",
    "2. Forset Caller\n",
    "\n",
    "3. Proximity Matrix\n",
    "\n",
    "4. Clustring\n"
   ]
  },
  {
   "cell_type": "code",
   "execution_count": 1,
   "metadata": {},
   "outputs": [],
   "source": [
    "%load_ext autoreload\n",
    "%autoreload 2\n",
    "\n",
    "%matplotlib inline"
   ]
  },
  {
   "cell_type": "code",
   "execution_count": 2,
   "metadata": {},
   "outputs": [
    {
     "name": "stderr",
     "output_type": "stream",
     "text": [
      "/usr/local/anaconda3/envs/fastai/lib/python3.7/site-packages/sklearn/utils/deprecation.py:143: FutureWarning: The sklearn.ensemble.forest module is  deprecated in version 0.22 and will be removed in version 0.24. The corresponding classes / functions should instead be imported from sklearn.ensemble. Anything that cannot be imported from sklearn.ensemble is now part of the private API.\n",
      "  warnings.warn(message, FutureWarning)\n"
     ]
    }
   ],
   "source": [
    "import datetime\n",
    "import calendar\n",
    "import random\n",
    "import numpy\n",
    "import pandas as pd\n",
    "import uuid\n",
    "\n",
    "from fastai.imports import *\n",
    "from fastai.structured import *\n",
    "from pandas_summary import DataFrameSummary\n",
    "from sklearn.ensemble import RandomForestRegressor, RandomForestClassifier\n",
    "from IPython.display import display\n",
    "from sklearn import metrics\n",
    "from scipy.cluster.hierarchy import dendrogram, linkage\n",
    "from scipy.spatial.distance import squareform\n",
    "from sklearn_extra.cluster import KMedoids\n",
    "from sklearn.cluster import AgglomerativeClustering\n",
    "from sklearn.metrics import confusion_matrix\n"
   ]
  },
  {
   "cell_type": "code",
   "execution_count": 3,
   "metadata": {},
   "outputs": [],
   "source": [
    "def display_all(df):\n",
    "    with pd.option_context(\"display.max_rows\", 1000, \"display.max_columns\", 1000): \n",
    "        display(df)"
   ]
  },
  {
   "cell_type": "code",
   "execution_count": 4,
   "metadata": {},
   "outputs": [],
   "source": [
    "def proximityMatrix(model, X, normalize=True):      \n",
    "\n",
    "    terminals = model.apply(X)\n",
    "    nTrees = terminals.shape[1]\n",
    "\n",
    "    a = terminals[:,0]\n",
    "    proxMat = 1*np.equal.outer(a, a)\n",
    "\n",
    "    for i in range(1, nTrees):\n",
    "        a = terminals[:,i]\n",
    "        proxMat += 1*np.equal.outer(a, a)\n",
    "\n",
    "    if normalize:\n",
    "        proxMat = proxMat / nTrees\n",
    "\n",
    "    return proxMat   "
   ]
  },
  {
   "cell_type": "code",
   "execution_count": 5,
   "metadata": {},
   "outputs": [],
   "source": [
    "def readAndSavefile(PATH,filename,ram=0):\n",
    "    df_raw = pd.read_csv(f'{PATH}{filename}', low_memory=False)\n",
    "    if (ram == 1):\n",
    "        os.makedirs('tmp', exist_ok=True)\n",
    "        df_raw.to_feather(f'tmp/{filename}-raw')\n",
    "    return df_raw"
   ]
  },
  {
   "cell_type": "code",
   "execution_count": 6,
   "metadata": {},
   "outputs": [],
   "source": [
    "def statis(df_raw):    \n",
    "    s1 = display_all(df_raw.tail().T)\n",
    "    #statistics\n",
    "    s2 = display_all(df_raw.describe(include='all').T)\n",
    "    #missing calculator\n",
    "    s3 = display_all(df_raw.isnull().sum().sort_index()/len(df_raw))\n",
    "    \n",
    "    return s1,s2,s3"
   ]
  },
  {
   "cell_type": "code",
   "execution_count": 7,
   "metadata": {},
   "outputs": [],
   "source": [
    "def forestCaller(df_raw,label):\n",
    "    m = RandomForestClassifier(n_jobs=-1) \n",
    "    m.fit(df_raw,label)\n",
    "    return m,m.score(df_raw,label)\n"
   ]
  },
  {
   "cell_type": "code",
   "execution_count": 8,
   "metadata": {},
   "outputs": [],
   "source": [
    "def format_dataset(df_raw,labelname):\n",
    "    df = df_raw.drop(labelname, axis=1)\n",
    "    y = df_raw.labelname\n",
    "    return df,y"
   ]
  },
  {
   "cell_type": "code",
   "execution_count": 9,
   "metadata": {},
   "outputs": [],
   "source": [
    "class Disti:\n",
    "    def __init__(self, values, counting):\n",
    "        self.values = values\n",
    "        self.counting = counting"
   ]
  },
  {
   "cell_type": "code",
   "execution_count": 10,
   "metadata": {},
   "outputs": [],
   "source": [
    "def synthetic_MarginalData(df_raw):\n",
    "    columnsN=df_raw.columns\n",
    "    list = []\n",
    "    for colind in range(len(columnsN)):\n",
    "        a = df_raw[columnsN[colind]].value_counts().axes\n",
    "        b = df_raw[columnsN[colind]].value_counts().array\n",
    "        list.append(Disti(a,b))\n",
    "    arrRan=np.zeros(len(columnsN)-1)\n",
    "\n",
    "    \n",
    "    columns = columnsN\n",
    "    df = pd.DataFrame(columns=columns)\n",
    "\n",
    "    for i in range(len(df_raw)):\n",
    "        for colind in range(len(columnsN)-1):\n",
    "            arrRan[colind]=random.choices(np.reshape(np.array(list[colind].values),(np.shape(list[colind].values)[1],)),weights=np.array(list[colind].counting))[0]\n",
    "        arr = np.append(arrRan,0)\n",
    "        df.loc[i]= (arr)\n",
    "    return df\n",
    "    "
   ]
  },
  {
   "cell_type": "code",
   "execution_count": 11,
   "metadata": {},
   "outputs": [],
   "source": [
    "def makeDataset_UnSupervRF(df_raw,labelname):\n",
    "    df_raw[[labelname]]=1\n",
    "    new_df=pd.concat([df_raw , synthetic_MarginalData(df_raw)])\n",
    "    return new_df"
   ]
  },
  {
   "cell_type": "code",
   "execution_count": 12,
   "metadata": {},
   "outputs": [],
   "source": [
    "df_raw=readAndSavefile(\"../../../iris/\", \"iris.csv\")"
   ]
  },
  {
   "cell_type": "code",
   "execution_count": 13,
   "metadata": {},
   "outputs": [],
   "source": [
    "train_cats(df_raw)\n",
    "\n",
    "pred_actual = df_raw.species.cat.codes"
   ]
  },
  {
   "cell_type": "code",
   "execution_count": 14,
   "metadata": {},
   "outputs": [],
   "source": [
    "c_df=makeDataset_UnSupervRF(df_raw,\"species\")"
   ]
  },
  {
   "cell_type": "code",
   "execution_count": 15,
   "metadata": {},
   "outputs": [
    {
     "data": {
      "text/html": [
       "<div>\n",
       "<style scoped>\n",
       "    .dataframe tbody tr th:only-of-type {\n",
       "        vertical-align: middle;\n",
       "    }\n",
       "\n",
       "    .dataframe tbody tr th {\n",
       "        vertical-align: top;\n",
       "    }\n",
       "\n",
       "    .dataframe thead th {\n",
       "        text-align: right;\n",
       "    }\n",
       "</style>\n",
       "<table border=\"1\" class=\"dataframe\">\n",
       "  <thead>\n",
       "    <tr style=\"text-align: right;\">\n",
       "      <th></th>\n",
       "      <th>sepal_length</th>\n",
       "      <th>sepal_width</th>\n",
       "      <th>petal_length</th>\n",
       "      <th>petal_width</th>\n",
       "      <th>species</th>\n",
       "    </tr>\n",
       "  </thead>\n",
       "  <tbody>\n",
       "    <tr>\n",
       "      <th>0</th>\n",
       "      <td>5.1</td>\n",
       "      <td>3.5</td>\n",
       "      <td>1.4</td>\n",
       "      <td>0.2</td>\n",
       "      <td>1.0</td>\n",
       "    </tr>\n",
       "    <tr>\n",
       "      <th>1</th>\n",
       "      <td>4.9</td>\n",
       "      <td>3.0</td>\n",
       "      <td>1.4</td>\n",
       "      <td>0.2</td>\n",
       "      <td>1.0</td>\n",
       "    </tr>\n",
       "    <tr>\n",
       "      <th>2</th>\n",
       "      <td>4.7</td>\n",
       "      <td>3.2</td>\n",
       "      <td>1.3</td>\n",
       "      <td>0.2</td>\n",
       "      <td>1.0</td>\n",
       "    </tr>\n",
       "    <tr>\n",
       "      <th>3</th>\n",
       "      <td>4.6</td>\n",
       "      <td>3.1</td>\n",
       "      <td>1.5</td>\n",
       "      <td>0.2</td>\n",
       "      <td>1.0</td>\n",
       "    </tr>\n",
       "    <tr>\n",
       "      <th>4</th>\n",
       "      <td>5.0</td>\n",
       "      <td>3.6</td>\n",
       "      <td>1.4</td>\n",
       "      <td>0.2</td>\n",
       "      <td>1.0</td>\n",
       "    </tr>\n",
       "  </tbody>\n",
       "</table>\n",
       "</div>"
      ],
      "text/plain": [
       "   sepal_length  sepal_width  petal_length  petal_width  species\n",
       "0           5.1          3.5           1.4          0.2      1.0\n",
       "1           4.9          3.0           1.4          0.2      1.0\n",
       "2           4.7          3.2           1.3          0.2      1.0\n",
       "3           4.6          3.1           1.5          0.2      1.0\n",
       "4           5.0          3.6           1.4          0.2      1.0"
      ]
     },
     "execution_count": 15,
     "metadata": {},
     "output_type": "execute_result"
    }
   ],
   "source": [
    "c_df.head()"
   ]
  },
  {
   "cell_type": "code",
   "execution_count": 16,
   "metadata": {},
   "outputs": [],
   "source": [
    "RF,sRF=forestCaller(c_df.drop(\"species\",axis=1),c_df.species)"
   ]
  },
  {
   "cell_type": "code",
   "execution_count": 17,
   "metadata": {},
   "outputs": [
    {
     "data": {
      "text/plain": [
       "1.0"
      ]
     },
     "execution_count": 17,
     "metadata": {},
     "output_type": "execute_result"
    }
   ],
   "source": [
    "sRF"
   ]
  },
  {
   "cell_type": "code",
   "execution_count": 18,
   "metadata": {},
   "outputs": [],
   "source": [
    "Prm=proximityMatrix(RF, c_df.drop(\"species\",axis=1), normalize=True)\n",
    "dm = (1-Prm)"
   ]
  },
  {
   "cell_type": "code",
   "execution_count": 19,
   "metadata": {},
   "outputs": [],
   "source": [
    "dm=dm[:int(np.shape(dm)[0]/2),:int(np.shape(dm)[0]/2)]"
   ]
  },
  {
   "cell_type": "code",
   "execution_count": 20,
   "metadata": {},
   "outputs": [],
   "source": [
    "cluster_p = KMedoids(n_clusters=3, random_state=0)"
   ]
  },
  {
   "cell_type": "code",
   "execution_count": 21,
   "metadata": {},
   "outputs": [
    {
     "data": {
      "text/plain": [
       "array([0, 0, 0, 0, 0, 0, 0, 0, 0, 0, 0, 0, 0, 0, 0, 0, 0, 0, 0, 0, 0, 0, 0, 0, 0, 0, 0, 0, 0, 0, 0, 0, 0, 0,\n",
       "       0, 0, 0, 0, 0, 0, 0, 2, 0, 0, 0, 0, 0, 0, 0, 0, 2, 2, 2, 1, 2, 1, 2, 1, 1, 1, 1, 1, 1, 2, 1, 2, 1, 1,\n",
       "       1, 1, 2, 1, 2, 1, 1, 2, 2, 2, 1, 1, 1, 1, 1, 2, 2, 2, 2, 1, 1, 1, 1, 2, 1, 1, 1, 1, 1, 1, 1, 1, 2, 2,\n",
       "       2, 2, 2, 2, 2, 2, 2, 2, 2, 2, 2, 2, 2, 2, 2, 2, 2, 1, 2, 2, 2, 2, 2, 2, 2, 2, 2, 2, 2, 2, 2, 2, 2, 2,\n",
       "       2, 2, 2, 2, 2, 2, 2, 2, 2, 2, 2, 2, 2, 2])"
      ]
     },
     "execution_count": 21,
     "metadata": {},
     "output_type": "execute_result"
    }
   ],
   "source": [
    "cluster_p.fit_predict(dm)"
   ]
  },
  {
   "cell_type": "code",
   "execution_count": 22,
   "metadata": {},
   "outputs": [
    {
     "data": {
      "text/plain": [
       "array([[49,  0,  1],\n",
       "       [ 0, 33, 17],\n",
       "       [ 0,  1, 49]])"
      ]
     },
     "execution_count": 22,
     "metadata": {},
     "output_type": "execute_result"
    }
   ],
   "source": [
    "confusion_matrix(pred_actual, cluster_p.labels_)"
   ]
  },
  {
   "cell_type": "code",
   "execution_count": 23,
   "metadata": {},
   "outputs": [
    {
     "data": {
      "text/plain": [
       "0.6834667916461372"
      ]
     },
     "execution_count": 23,
     "metadata": {},
     "output_type": "execute_result"
    }
   ],
   "source": [
    "sklearn.metrics.adjusted_rand_score(pred_actual, cluster_p.labels_)"
   ]
  },
  {
   "cell_type": "markdown",
   "metadata": {},
   "source": [
    "# Semi Supervision\n",
    "1. Generate Sample Dataset\n",
    "2. Assigned removed label -1 value\n",
    "3. Generate Classs Each Tree with leafs\n"
   ]
  },
  {
   "cell_type": "code",
   "execution_count": 24,
   "metadata": {},
   "outputs": [],
   "source": [
    "class Nodes:\n",
    "    def __init__(self,leafs,indleaf,weight):\n",
    "        self.leafs = leafs\n",
    "        self.indleaf =indleaf\n",
    "        self.weight = weight\n",
    "\n",
    "        \n",
    "class SemiDf:\n",
    "    def __init__(self,data,label):\n",
    "        self.data = data\n",
    "        self.label = label\n",
    "        \n",
    "class Treey:\n",
    "    def __init__(self,index,nodes,weights):\n",
    "        self.index = index\n",
    "        self.nodes = nodes\n",
    "        self.weights=weights"
   ]
  },
  {
   "cell_type": "code",
   "execution_count": 48,
   "metadata": {},
   "outputs": [],
   "source": [
    "\n",
    "class Treey:\n",
    "    def __init__(self,index,nodes,weights):\n",
    "        self.index = index\n",
    "        self.nodes = nodes\n",
    "        self.weights=weights"
   ]
  },
  {
   "cell_type": "code",
   "execution_count": 25,
   "metadata": {},
   "outputs": [],
   "source": [
    "def semiData_Gen(filepath,filename,labelname,dataRatio=0.7):\n",
    "    semi_df=readAndSavefile(filepath, filename)\n",
    "    num = np.random.choice(range(0, len(semi_df)),int(len(semi_df)*dataRatio),replace=False)\n",
    "    if(type(semi_df[labelname][0]) is str):\n",
    "        train_cats(semi_df)\n",
    "        semi_df[labelname] = semi_df[labelname].cat.codes\n",
    "    semi_df.at[num, labelname] = float(\"NaN\")\n",
    "    lbl = semi_df[labelname]\n",
    "    return semi_df.drop(labelname,axis=1),lbl\n"
   ]
  },
  {
   "cell_type": "code",
   "execution_count": 26,
   "metadata": {},
   "outputs": [],
   "source": [
    "semi_df,lbl = semiData_Gen(\"../../../iris/\",\"iris.csv\",\"species\")\n",
    "SmDt=SemiDf(semi_df,lbl)"
   ]
  },
  {
   "cell_type": "code",
   "execution_count": null,
   "metadata": {},
   "outputs": [],
   "source": []
  },
  {
   "cell_type": "code",
   "execution_count": 27,
   "metadata": {},
   "outputs": [],
   "source": [
    "def gini2(x, w=None):\n",
    "    # The rest of the code requires numpy arrays.\n",
    "    x = np.asarray(x)\n",
    "    if w is not None:\n",
    "        w = np.asarray(w)\n",
    "        sorted_indices = np.argsort(x)\n",
    "        sorted_x = x[sorted_indices]\n",
    "        sorted_w = w[sorted_indices]\n",
    "        # Force float dtype to avoid overflows\n",
    "        cumw = np.cumsum(sorted_w, dtype=float)\n",
    "        cumxw = np.cumsum(sorted_x * sorted_w, dtype=float)\n",
    "        return (np.sum(cumxw[1:] * cumw[:-1] - cumxw[:-1] * cumw[1:]) / \n",
    "                (cumxw[-1] * cumw[-1]))\n",
    "    else:\n",
    "        sorted_x = np.sort(x)\n",
    "        n = len(x)\n",
    "        cumx = np.cumsum(sorted_x, dtype=float)\n",
    "        # The above formula, with all weights equal to 1 simplifies to:\n",
    "        return (n + 1 - 2 * np.sum(cumx) / cumx[-1])/n "
   ]
  },
  {
   "cell_type": "code",
   "execution_count": 28,
   "metadata": {},
   "outputs": [],
   "source": [
    "def Cloning(li1): \n",
    "    li_copy = li1[:] \n",
    "    return li_copy "
   ]
  },
  {
   "cell_type": "code",
   "execution_count": 29,
   "metadata": {},
   "outputs": [],
   "source": [
    "def leaf_Weight_helper(RF,SmDt): #random forest and semisupervised data\n",
    "    terminals=RF.apply(SmDt.data)\n",
    "    nTrees = terminals.shape[1]\n",
    "    leafs = []\n",
    "    storeNodes= []\n",
    "    for i in range(nTrees):\n",
    "        uniqleaf = set(terminals[:,i])\n",
    "        leafs.append(uniqleaf)\n",
    "        mylist = []\n",
    "        for j in uniqleaf:\n",
    "            l=[index for index, value in enumerate(terminals[:,i]) if value == j]\n",
    "            mylist.append(l)\n",
    "        n = Nodes(uniqleaf,mylist,0)\n",
    "        storeNodes.append(n)\n",
    "        mylist=[]\n",
    "    return storeNodes\n",
    "    "
   ]
  },
  {
   "cell_type": "code",
   "execution_count": 30,
   "metadata": {},
   "outputs": [],
   "source": [
    "y = leaf_Weight_helper(RF,SmDt) #y[0].leafs #y[1].indleaf"
   ]
  },
  {
   "cell_type": "code",
   "execution_count": 31,
   "metadata": {},
   "outputs": [
    {
     "data": {
      "text/plain": [
       "[[3, 6, 8, 13, 38, 41, 42, 47],\n",
       " [57, 106],\n",
       " [1, 2, 9, 12, 29, 30, 34, 37, 45],\n",
       " [11, 24],\n",
       " [7, 20, 25, 28, 35, 39, 49],\n",
       " [31],\n",
       " [23, 26],\n",
       " [60, 93, 98],\n",
       " [59],\n",
       " [84],\n",
       " [53, 62, 68, 80, 81, 87, 119],\n",
       " [79],\n",
       " [69, 72, 89, 90, 92, 113, 134, 146],\n",
       " [108],\n",
       " [61, 64, 67, 71, 74, 75, 82, 88, 94, 95, 96, 97, 99],\n",
       " [73],\n",
       " [55],\n",
       " [58],\n",
       " [54],\n",
       " [76, 83, 101, 121, 123, 126, 133, 142],\n",
       " [111, 122, 128, 130, 132],\n",
       " [63, 66, 77, 78, 91, 127, 138],\n",
       " [102, 103, 104, 105, 107, 112, 116, 129, 147, 149],\n",
       " [70],\n",
       " [56],\n",
       " [50, 51, 52, 65, 86, 125, 137],\n",
       " [110],\n",
       " [124, 139],\n",
       " [115, 120, 135, 141, 143, 145],\n",
       " [118],\n",
       " [85],\n",
       " [148],\n",
       " [0,\n",
       "  4,\n",
       "  5,\n",
       "  10,\n",
       "  14,\n",
       "  15,\n",
       "  16,\n",
       "  17,\n",
       "  18,\n",
       "  19,\n",
       "  21,\n",
       "  22,\n",
       "  27,\n",
       "  32,\n",
       "  33,\n",
       "  36,\n",
       "  40,\n",
       "  43,\n",
       "  44,\n",
       "  46,\n",
       "  48],\n",
       " [117, 131],\n",
       " [114],\n",
       " [100, 136, 140, 144],\n",
       " [109]]"
      ]
     },
     "execution_count": 31,
     "metadata": {},
     "output_type": "execute_result"
    }
   ],
   "source": [
    "y[1].indleaf"
   ]
  },
  {
   "cell_type": "code",
   "execution_count": 32,
   "metadata": {},
   "outputs": [],
   "source": [
    "def gini(actual, pred, cmpcol = 0, sortcol = 1):\n",
    "    assert( len(actual) == len(pred) )\n",
    "    all = np.asarray(np.c_[ actual, pred, np.arange(len(actual)) ], dtype=np.float)\n",
    "    all = all[ np.lexsort((all[:,2], -1*all[:,1])) ]\n",
    "    totalLosses = all[:,0].sum()\n",
    "    giniSum = all[:,0].cumsum().sum() / totalLosses\n",
    "    giniSum -= (len(actual) + 1) / 2.\n",
    "    return giniSum / len(actual)\n",
    " \n",
    "def gini_normalized(a, p):\n",
    "    return gini(a, p) / gini(a, a)"
   ]
  },
  {
   "cell_type": "code",
   "execution_count": 33,
   "metadata": {},
   "outputs": [],
   "source": [
    "def gini3(array):\n",
    "    \"\"\"Calculate the Gini coefficient of a numpy array.\"\"\"\n",
    "    # based on bottom eq: http://www.statsdirect.com/help/content/image/stat0206_wmf.gif\n",
    "    # from: http://www.statsdirect.com/help/default.htm#nonparametric_methods/gini.htm\n",
    "    #array = array[~numpy.isnan(array)]\n",
    "\n",
    "    array = array.flatten() #all values are treated equally, arrays must be 1d\n",
    "    if np.amin(array) < 0:\n",
    "        array -= np.amin(array) #values cannot be negative\n",
    "    array += 0.0000001 #values cannot be 0\n",
    "    array = np.sort(array) #values must be sorted\n",
    "    index = np.arange(1,array.shape[0]+1) #index per array element\n",
    "    n = array.shape[0]#number of array elements\n",
    "    return ((np.sum((2 * index - n  - 1) * array)) / (n * np.sum(array))) #Gini coefficient"
   ]
  },
  {
   "cell_type": "code",
   "execution_count": 36,
   "metadata": {},
   "outputs": [],
   "source": [
    "import math\n",
    "\n"
   ]
  },
  {
   "cell_type": "code",
   "execution_count": 51,
   "metadata": {},
   "outputs": [],
   "source": [
    "\n",
    "mylist3 =[]\n",
    "len(y)\n",
    "weights= []\n",
    "listTree = []\n",
    "for j in range(len(y)):\n",
    "    for i in y[j].indleaf:\n",
    "        mylist3.append(SmDt.label[i])\n",
    "    for i in mylist3:\n",
    "        t=np.var(i)\n",
    "        if(math.isnan(t)):\n",
    "            t = 0.0\n",
    "        weights.append(1-t)\n",
    "    t=Treey(j,y[j].leafs,weights)\n",
    "    listTree.append(t)\n",
    "    weights=[]\n",
    "    mylist3=[]\n",
    "    "
   ]
  },
  {
   "cell_type": "code",
   "execution_count": 52,
   "metadata": {},
   "outputs": [
    {
     "data": {
      "text/plain": [
       "0"
      ]
     },
     "execution_count": 52,
     "metadata": {},
     "output_type": "execute_result"
    }
   ],
   "source": [
    "listTree[0].index"
   ]
  },
  {
   "cell_type": "code",
   "execution_count": 55,
   "metadata": {},
   "outputs": [
    {
     "data": {
      "text/plain": [
       "{5,\n",
       " 8,\n",
       " 9,\n",
       " 12,\n",
       " 14,\n",
       " 16,\n",
       " 21,\n",
       " 23,\n",
       " 29,\n",
       " 38,\n",
       " 41,\n",
       " 47,\n",
       " 48,\n",
       " 54,\n",
       " 62,\n",
       " 65,\n",
       " 67,\n",
       " 68,\n",
       " 72,\n",
       " 73,\n",
       " 76,\n",
       " 79,\n",
       " 80}"
      ]
     },
     "execution_count": 55,
     "metadata": {},
     "output_type": "execute_result"
    }
   ],
   "source": [
    "listTree[0].nodes"
   ]
  },
  {
   "cell_type": "code",
   "execution_count": 56,
   "metadata": {},
   "outputs": [
    {
     "data": {
      "text/plain": [
       "[1.0,\n",
       " 1.0,\n",
       " 1.0,\n",
       " 1.0,\n",
       " 0.8125,\n",
       " 1.0,\n",
       " 1.0,\n",
       " 1.0,\n",
       " 1.0,\n",
       " 1.0,\n",
       " 1.0,\n",
       " 1.0,\n",
       " 1.0,\n",
       " 1.0,\n",
       " 1.0,\n",
       " 0.91,\n",
       " 1.0,\n",
       " 1.0,\n",
       " 1.0,\n",
       " 1.0,\n",
       " 1.0,\n",
       " 1.0,\n",
       " 1.0]"
      ]
     },
     "execution_count": 56,
     "metadata": {},
     "output_type": "execute_result"
    }
   ],
   "source": [
    "listTree[0].weights"
   ]
  },
  {
   "cell_type": "code",
   "execution_count": 61,
   "metadata": {},
   "outputs": [
    {
     "data": {
      "text/plain": [
       "34"
      ]
     },
     "execution_count": 61,
     "metadata": {},
     "output_type": "execute_result"
    }
   ],
   "source": [
    "len(listTree[2].nodes)"
   ]
  },
  {
   "cell_type": "code",
   "execution_count": 62,
   "metadata": {},
   "outputs": [
    {
     "data": {
      "text/plain": [
       "34"
      ]
     },
     "execution_count": 62,
     "metadata": {},
     "output_type": "execute_result"
    }
   ],
   "source": [
    "len(listTree[2].weights)"
   ]
  },
  {
   "cell_type": "code",
   "execution_count": 44,
   "metadata": {},
   "outputs": [
    {
     "data": {
      "text/plain": [
       "37"
      ]
     },
     "execution_count": 44,
     "metadata": {},
     "output_type": "execute_result"
    }
   ],
   "source": [
    "len(weights)"
   ]
  },
  {
   "cell_type": "code",
   "execution_count": 46,
   "metadata": {},
   "outputs": [
    {
     "data": {
      "text/plain": [
       "37"
      ]
     },
     "execution_count": 46,
     "metadata": {},
     "output_type": "execute_result"
    }
   ],
   "source": [
    "len(y[1].leafs)"
   ]
  },
  {
   "cell_type": "code",
   "execution_count": 49,
   "metadata": {},
   "outputs": [
    {
     "data": {
      "text/plain": [
       "100"
      ]
     },
     "execution_count": 49,
     "metadata": {},
     "output_type": "execute_result"
    }
   ],
   "source": [
    "len(y)"
   ]
  },
  {
   "cell_type": "code",
   "execution_count": null,
   "metadata": {},
   "outputs": [],
   "source": [
    "#https://stackoverflow.com/questions/39626432/how-to-calculate-entropy-from-np-histogram"
   ]
  },
  {
   "cell_type": "code",
   "execution_count": 73,
   "metadata": {},
   "outputs": [],
   "source": [
    "def semiSupervision(filepath,filename):\n",
    "    terminals = RF.apply(c_df.drop(\"species\",axis=1))\n",
    "    nTrees = terminals.shape[1]\n",
    "    semi_df=readAndSavefile(\"../../../iris/\", \"iris.csv\")\n",
    "    num = np.random.choice(range(0, 150),int(150*0.7),replace=False)\n",
    "    train_cats(semi_df)\n",
    "    semi_df.species=semi_df.species.cat.codes\n",
    "    semi_df.at[num, 'species'] = -1\n",
    "    lbl = semi_df.species\n",
    "    SemD = SemiData(lbl)\n",
    "    SemD.label\n",
    "    df = semi_df.drop(\"species\",axis=1)\n",
    "    terminals=RF.apply(df)\n",
    "    len(terminals[:,0])\n",
    "    terminals[:,0]\n",
    "    SemD.label\n",
    "    nTrees = terminals.shape[1]\n",
    "    uniqleaf=set(terminals[:,0])\n",
    "    mylist = []\n",
    "    for i in uniqleaf:\n",
    "        l=[index for index, value in enumerate(terminals[:,0]) if value == i]\n",
    "        mylist.append(l)\n",
    "    mylist[0]\n",
    "    SemD.label\n",
    "    mylist2 =[]\n",
    "    mylist3 =[]\n",
    "    for i in mylist:\n",
    "        mylist3.append(SmDt.label[i])\n",
    "    for i in mylist3:\n",
    "        print(i)\n",
    "        print(gini(i))\n",
    "        print(\"===========\")\n"
   ]
  },
  {
   "cell_type": "code",
   "execution_count": null,
   "metadata": {},
   "outputs": [],
   "source": [
    "terminals = RF.apply(c_df.drop(\"species\",axis=1))\n",
    "nTrees = terminals.shape[1]\n",
    "\n",
    "\n"
   ]
  },
  {
   "cell_type": "code",
   "execution_count": 30,
   "metadata": {},
   "outputs": [],
   "source": [
    "terminals = RF.apply(c_df.drop(\"species\",axis=1))\n",
    "#  X_leaves : ndarray of shape (n_samples, n_estimators) \n",
    "#  For each datapoint x in X and for each tree in the forest,\n",
    "#  return the index of the leaf x ends up in.\n"
   ]
  },
  {
   "cell_type": "code",
   "execution_count": 60,
   "metadata": {},
   "outputs": [
    {
     "data": {
      "text/plain": [
       "array([[16, 41,  4, ..., 69, 34,  7],\n",
       "       [12, 28,  4, ..., 11,  8,  7],\n",
       "       [16, 24,  4, ..., 11, 14,  7],\n",
       "       ...,\n",
       "       [40, 46, 47, ..., 12, 39, 78],\n",
       "       [38, 52, 35, ..., 14, 43, 35],\n",
       "       [23, 24,  4, ...,  4, 31,  9]])"
      ]
     },
     "execution_count": 60,
     "metadata": {},
     "output_type": "execute_result"
    }
   ],
   "source": [
    "terminals"
   ]
  },
  {
   "cell_type": "code",
   "execution_count": 62,
   "metadata": {},
   "outputs": [],
   "source": [
    "?RF.apply"
   ]
  },
  {
   "cell_type": "code",
   "execution_count": 63,
   "metadata": {},
   "outputs": [],
   "source": [
    "nTrees = terminals.shape[1]"
   ]
  },
  {
   "cell_type": "code",
   "execution_count": 64,
   "metadata": {},
   "outputs": [
    {
     "data": {
      "text/plain": [
       "100"
      ]
     },
     "execution_count": 64,
     "metadata": {},
     "output_type": "execute_result"
    }
   ],
   "source": [
    "nTrees"
   ]
  },
  {
   "cell_type": "code",
   "execution_count": 34,
   "metadata": {},
   "outputs": [
    {
     "data": {
      "text/plain": [
       "array([14, 14, 14, 14, 14, 31, 14, 14, 10, 14, 14, 28, 14,  8, 15, 14, 14, 14, 31, 14, 31, 14, 14, 28, 28,\n",
       "       28, 28, 14, 14, 28, 28, 14, 14, 14, 14, 14, 14, 14, 10, 14, 14,  5, 12, 28, 28, 14, 28, 14, 14, 14,\n",
       "       71, 71, 71, 35, 71, 57, 85, 22, 60, 45, 22, 45, 33, 71, 35, 71, 67, 34, 64, 33, 71, 39, 64, 57, 40,\n",
       "       71, 71, 71, 71, 30, 33, 33, 35, 64, 67, 85, 71, 55, 35, 35, 55, 71, 35, 22, 35, 35, 35, 40, 27, 35,\n",
       "       88, 64, 82, 78, 83, 82, 64, 82, 64, 88, 71, 64, 71, 64, 67, 71, 71, 88, 64, 64, 83, 67, 82, 64, 88,\n",
       "       82, 71, 71, 77, 82, 82, 88, 83, 71, 64, 83, 88, 71, 71, 71, 83, 71, 64, 83, 88, 71, 64, 71, 88, 71,\n",
       "       15, 71, 85, 16, 34, 13, 46, 85, 62, 85, 47, 40, 37, 62, 85, 62, 40, 68, 24, 15, 47, 34, 15, 62, 46,\n",
       "       37, 16, 81,  5, 59, 85, 37, 47, 68, 62, 40, 68, 57, 68, 37, 47, 31, 37, 37, 67, 16, 85, 15, 16, 37,\n",
       "       62, 44, 64, 68, 62, 47, 85, 68, 85, 16, 68, 15, 72, 47, 24, 62, 16, 85, 85, 85, 53, 34, 16, 81, 16,\n",
       "       62, 62, 85, 16, 79, 15, 16, 57, 68, 34, 16, 62, 35, 61, 31, 16, 83, 47, 62, 85, 34, 16, 16, 85, 37,\n",
       "       59, 77, 15, 62, 85, 47, 47, 64, 62, 15, 46, 15, 85, 46, 53, 31, 67, 53, 34, 62, 15, 45, 16, 62, 16,\n",
       "       27, 34, 87, 62, 34, 85, 67, 47, 47, 16, 68, 16, 15, 85, 85, 62, 62, 53, 16, 62, 72, 47, 62, 47, 37])"
      ]
     },
     "execution_count": 34,
     "metadata": {},
     "output_type": "execute_result"
    }
   ],
   "source": [
    "#0 th Tree\n",
    "terminals[:,6]"
   ]
  },
  {
   "cell_type": "code",
   "execution_count": 73,
   "metadata": {},
   "outputs": [
    {
     "data": {
      "text/plain": [
       "array([ 16,  12,  16,  16,  16,  23,  22,  16,  12,  16,  16,  16,  12,  12,  29,  39,  23,  22,  27,  22,\n",
       "        16,  23,  16,  23,  16,  15,  23,  16,  16,  16,  16,  23,  16,  31,  16,  16,  27,  16,  12,  16,\n",
       "        22,  21,  16,  23,  23,  21,  16,  16,  16,  16,  66,  55,  65,  36,  55,  38,  55,  38,  38,  42,\n",
       "        36,  42,  36,  55,  38,  55,  47,  38,  52,  38,  55,  38,  55,  40,  38,  55,  63,  55,  55,  38,\n",
       "        38,  38,  38,  55,  47,  60,  55,  36,  38,  38,  38,  55,  38,  36,  38,  38,  38,  38,  38,  38,\n",
       "        99,  57,  90,  77,  90,  91,  45,  79,  69, 100,  86,  70,  86,  86,  86,  86,  77, 100,  91,  52,\n",
       "        86,  86,  91,  55,  86,  79,  55,  55,  86,  79,  70, 100,  86,  55,  69,  90,  94,  77,  55,  86,\n",
       "        86,  86,  57,  90,  99,  86,  57,  86,  93,  55,  63,  14,  42,  63,  72,  72,  69,  42,  42,  27,\n",
       "        24,  82,  53,  21,  40,  42,  63,  42,  12,  72,  40,  30,  42,  42,  82,  63, 100,  63,  27,  42,\n",
       "        69, 100,  47,  27,  42,  42,  82,  69,  82,  48,  90,  69,  33,  69,  38,  42,  94,  89,  69,  40,\n",
       "        40,  42,  42,  69,  27,  19,  65,  27,  45,  40,  66,  61,  23,  40,  63,  27,  69,  42,  40,  40,\n",
       "        66,  63,  98,  45,  69,  42,  42,  27,  27,  40,  82,  27,  72,  58,  63,  37,  45,  98,  38,  27,\n",
       "        82,  72,  42,  66,  47,  38,  42,  72,  63,  61,  82,  27,  42,  42,  45, 100,  40,  69,  86,  38,\n",
       "        42,  82, 100,  72,  69,  24,  38,  53,  66,  39,  77,  69,  72,  82,  42,  38,  72,  69,  72,  66,\n",
       "        63,  42,  82,  74,  86,  78,  69, 100,  40,  27,  63,  72,  96,  69,  82,  96,  45,  40,  38,  23])"
      ]
     },
     "execution_count": 73,
     "metadata": {},
     "output_type": "execute_result"
    }
   ],
   "source": [
    "a"
   ]
  },
  {
   "cell_type": "code",
   "execution_count": 74,
   "metadata": {},
   "outputs": [],
   "source": [
    "proxMat = 1*np.equal.outer(a, a)\n"
   ]
  },
  {
   "cell_type": "code",
   "execution_count": 76,
   "metadata": {},
   "outputs": [],
   "source": [
    "?np.equal.outer"
   ]
  },
  {
   "cell_type": "code",
   "execution_count": 75,
   "metadata": {},
   "outputs": [
    {
     "data": {
      "text/plain": [
       "array([[1, 0, 1, ..., 0, 0, 0],\n",
       "       [0, 1, 0, ..., 0, 0, 0],\n",
       "       [1, 0, 1, ..., 0, 0, 0],\n",
       "       ...,\n",
       "       [0, 0, 0, ..., 1, 0, 0],\n",
       "       [0, 0, 0, ..., 0, 1, 0],\n",
       "       [0, 0, 0, ..., 0, 0, 1]])"
      ]
     },
     "execution_count": 75,
     "metadata": {},
     "output_type": "execute_result"
    }
   ],
   "source": [
    "proxMat"
   ]
  },
  {
   "cell_type": "code",
   "execution_count": 115,
   "metadata": {},
   "outputs": [],
   "source": [
    "semi_df=readAndSavefile(\"../../../iris/\", \"iris.csv\")"
   ]
  },
  {
   "cell_type": "code",
   "execution_count": 116,
   "metadata": {},
   "outputs": [],
   "source": [
    "num = np.random.choice(range(0, 150),int(150*0.7),replace=False)\n"
   ]
  },
  {
   "cell_type": "code",
   "execution_count": 117,
   "metadata": {},
   "outputs": [],
   "source": [
    "train_cats(semi_df)"
   ]
  },
  {
   "cell_type": "code",
   "execution_count": 118,
   "metadata": {},
   "outputs": [],
   "source": [
    "semi_df.species=semi_df.species.cat.codes"
   ]
  },
  {
   "cell_type": "code",
   "execution_count": 119,
   "metadata": {},
   "outputs": [],
   "source": [
    "semi_df.at[num, 'species'] = -1"
   ]
  },
  {
   "cell_type": "code",
   "execution_count": 120,
   "metadata": {},
   "outputs": [],
   "source": [
    "lbl = semi_df.species"
   ]
  },
  {
   "cell_type": "code",
   "execution_count": 121,
   "metadata": {},
   "outputs": [
    {
     "data": {
      "text/plain": [
       "0     -1\n",
       "1     -1\n",
       "2     -1\n",
       "3     -1\n",
       "4      0\n",
       "      ..\n",
       "145   -1\n",
       "146    2\n",
       "147   -1\n",
       "148   -1\n",
       "149   -1\n",
       "Name: species, Length: 150, dtype: int8"
      ]
     },
     "execution_count": 121,
     "metadata": {},
     "output_type": "execute_result"
    }
   ],
   "source": [
    "lbl"
   ]
  },
  {
   "cell_type": "code",
   "execution_count": 123,
   "metadata": {},
   "outputs": [],
   "source": [
    "SemD = SemiData(lbl)"
   ]
  },
  {
   "cell_type": "code",
   "execution_count": 124,
   "metadata": {},
   "outputs": [
    {
     "data": {
      "text/plain": [
       "0     -1\n",
       "1     -1\n",
       "2     -1\n",
       "3     -1\n",
       "4      0\n",
       "      ..\n",
       "145   -1\n",
       "146    2\n",
       "147   -1\n",
       "148   -1\n",
       "149   -1\n",
       "Name: species, Length: 150, dtype: int8"
      ]
     },
     "execution_count": 124,
     "metadata": {},
     "output_type": "execute_result"
    }
   ],
   "source": [
    "SemD.label"
   ]
  },
  {
   "cell_type": "code",
   "execution_count": 125,
   "metadata": {},
   "outputs": [],
   "source": [
    "df = semi_df.drop(\"species\",axis=1)"
   ]
  },
  {
   "cell_type": "code",
   "execution_count": 126,
   "metadata": {},
   "outputs": [],
   "source": [
    "terminals=RF.apply(df)"
   ]
  },
  {
   "cell_type": "code",
   "execution_count": 127,
   "metadata": {},
   "outputs": [
    {
     "data": {
      "text/plain": [
       "150"
      ]
     },
     "execution_count": 127,
     "metadata": {},
     "output_type": "execute_result"
    }
   ],
   "source": [
    "len(terminals[:,0])"
   ]
  },
  {
   "cell_type": "code",
   "execution_count": 128,
   "metadata": {},
   "outputs": [
    {
     "data": {
      "text/plain": [
       "array([10, 10, 10, 10, 10, 10, 10, 10,  8, 10, 10, 10, 10,  7, 30, 25, 10, 10, 24, 10, 10, 10, 10, 10, 10,\n",
       "       10, 10, 10, 10, 10, 10, 10, 10, 10, 10, 10, 10, 10,  8, 10, 10,  8,  8, 10, 10, 10, 10, 10, 10, 10,\n",
       "       53, 75, 75, 12, 58, 52, 75, 12, 53, 42, 12, 75, 36, 53, 26, 48, 69, 36, 58, 23, 75, 36, 58, 52, 36,\n",
       "       45, 52, 75, 75, 22, 12, 12, 32, 58, 69, 83, 75, 36, 26, 12, 15, 53, 36, 12, 26, 24, 26, 36, 12, 26,\n",
       "       79, 58, 75, 75, 75, 75, 58, 75, 58, 83, 75, 58, 75, 58, 63, 75, 75, 86, 63, 58, 75, 58, 58, 58, 75,\n",
       "       75, 58, 75, 62, 75, 58, 86, 63, 58, 51, 86, 83, 75, 75, 75, 80, 75, 58, 75, 80, 75, 58, 75, 83, 75])"
      ]
     },
     "execution_count": 128,
     "metadata": {},
     "output_type": "execute_result"
    }
   ],
   "source": [
    "terminals[:,0]"
   ]
  },
  {
   "cell_type": "code",
   "execution_count": 138,
   "metadata": {},
   "outputs": [
    {
     "data": {
      "text/plain": [
       "0     -1\n",
       "1     -1\n",
       "2     -1\n",
       "3     -1\n",
       "4      0\n",
       "      ..\n",
       "145   -1\n",
       "146    2\n",
       "147   -1\n",
       "148   -1\n",
       "149   -1\n",
       "Name: species, Length: 150, dtype: int8"
      ]
     },
     "execution_count": 138,
     "metadata": {},
     "output_type": "execute_result"
    }
   ],
   "source": [
    "SemD.label"
   ]
  },
  {
   "cell_type": "code",
   "execution_count": 141,
   "metadata": {},
   "outputs": [],
   "source": []
  },
  {
   "cell_type": "code",
   "execution_count": 134,
   "metadata": {},
   "outputs": [],
   "source": [
    "nTrees = terminals.shape[1]"
   ]
  },
  {
   "cell_type": "code",
   "execution_count": 145,
   "metadata": {},
   "outputs": [],
   "source": [
    "uniqleaf=set(terminals[:,0])\n",
    "mylist = []\n",
    "for i in uniqleaf:\n",
    "    l=[index for index, value in enumerate(terminals[:,0]) if value == i]\n",
    "    mylist.append(l)"
   ]
  },
  {
   "cell_type": "code",
   "execution_count": 148,
   "metadata": {},
   "outputs": [
    {
     "data": {
      "text/plain": [
       "[13]"
      ]
     },
     "execution_count": 148,
     "metadata": {},
     "output_type": "execute_result"
    }
   ],
   "source": [
    "mylist[0]"
   ]
  },
  {
   "cell_type": "code",
   "execution_count": 147,
   "metadata": {},
   "outputs": [
    {
     "data": {
      "text/plain": [
       "0     -1\n",
       "1     -1\n",
       "2     -1\n",
       "3     -1\n",
       "4      0\n",
       "      ..\n",
       "145   -1\n",
       "146    2\n",
       "147   -1\n",
       "148   -1\n",
       "149   -1\n",
       "Name: species, Length: 150, dtype: int8"
      ]
     },
     "execution_count": 147,
     "metadata": {},
     "output_type": "execute_result"
    }
   ],
   "source": [
    "SemD.label"
   ]
  },
  {
   "cell_type": "code",
   "execution_count": null,
   "metadata": {},
   "outputs": [],
   "source": [
    "mylist2 =[]"
   ]
  },
  {
   "cell_type": "code",
   "execution_count": 153,
   "metadata": {},
   "outputs": [],
   "source": [
    "mylist3 =[]\n",
    "for i in mylist:\n",
    "    mylist3.append(SemD.label[i])"
   ]
  },
  {
   "cell_type": "code",
   "execution_count": 170,
   "metadata": {},
   "outputs": [],
   "source": [
    "def gini(x, w=None):\n",
    "    # The rest of the code requires numpy arrays.\n",
    "    x = np.asarray(x)\n",
    "    if w is not None:\n",
    "        w = np.asarray(w)\n",
    "        sorted_indices = np.argsort(x)\n",
    "        sorted_x = x[sorted_indices]\n",
    "        sorted_w = w[sorted_indices]\n",
    "        # Force float dtype to avoid overflows\n",
    "        cumw = np.cumsum(sorted_w, dtype=float)\n",
    "        cumxw = np.cumsum(sorted_x * sorted_w, dtype=float)\n",
    "        return (np.sum(cumxw[1:] * cumw[:-1] - cumxw[:-1] * cumw[1:]) / \n",
    "                (cumxw[-1] * cumw[-1]))\n",
    "    else:\n",
    "        sorted_x = np.sort(x)\n",
    "        n = len(x)\n",
    "        cumx = np.cumsum(sorted_x, dtype=float)\n",
    "        # The above formula, with all weights equal to 1 simplifies to:\n",
    "        return (n + 1 - 2 * np.sum(cumx) / cumx[-1])/n "
   ]
  },
  {
   "cell_type": "code",
   "execution_count": 173,
   "metadata": {},
   "outputs": [],
   "source": [
    "def gini2(x, weights=None):\n",
    "    if weights is None:\n",
    "        weights = np.ones_like(x)\n",
    "    count = np.multiply.outer(weights, weights)\n",
    "    mad = np.abs(np.subtract.outer(x, x) * count).sum() / count.sum()\n",
    "    rmad = mad / np.average(x, weights=weights)\n",
    "    return 0.5 * rmad"
   ]
  },
  {
   "cell_type": "code",
   "execution_count": 178,
   "metadata": {},
   "outputs": [],
   "source": [
    "from scipy.stats import entropy"
   ]
  },
  {
   "cell_type": "code",
   "execution_count": 181,
   "metadata": {
    "scrolled": true
   },
   "outputs": [
    {
     "name": "stdout",
     "output_type": "stream",
     "text": [
      "13   -1\n",
      "Name: species, dtype: int8\n",
      "0.5\n",
      "===========\n",
      "8    -1\n",
      "38   -1\n",
      "41   -1\n",
      "42   -1\n",
      "Name: species, dtype: int8\n",
      "0.2\n",
      "===========\n",
      "0    -1\n",
      "1    -1\n",
      "2    -1\n",
      "3    -1\n",
      "4     0\n",
      "5     0\n",
      "6    -1\n",
      "7    -1\n",
      "9     0\n",
      "10   -1\n",
      "11   -1\n",
      "12   -1\n",
      "16    0\n",
      "17   -1\n",
      "19    0\n",
      "20   -1\n",
      "21   -1\n",
      "22   -1\n",
      "23   -1\n",
      "24   -1\n",
      "25    0\n",
      "26   -1\n",
      "27   -1\n",
      "28    0\n",
      "29   -1\n",
      "30   -1\n",
      "31   -1\n",
      "32   -1\n",
      "33   -1\n",
      "34    0\n",
      "35   -1\n",
      "36    0\n",
      "37   -1\n",
      "39    0\n",
      "40   -1\n",
      "43   -1\n",
      "44    0\n",
      "45    0\n",
      "46   -1\n",
      "47   -1\n",
      "48   -1\n",
      "49    0\n",
      "Name: species, dtype: int8\n",
      "-12.976744186046512\n",
      "===========\n",
      "53    1\n",
      "57   -1\n",
      "60   -1\n",
      "80    1\n",
      "81   -1\n",
      "89   -1\n",
      "93    1\n",
      "98    1\n",
      "Name: species, dtype: int8\n",
      "inf\n",
      "===========\n",
      "90    1\n",
      "Name: species, dtype: int8\n",
      "0.5\n",
      "===========\n",
      "79    1\n",
      "Name: species, dtype: int8\n",
      "0.5\n",
      "===========\n",
      "69   -1\n",
      "Name: species, dtype: int8\n",
      "0.5\n",
      "===========\n",
      "18   -1\n",
      "95    1\n",
      "Name: species, dtype: int8\n",
      "inf\n",
      "===========\n",
      "15   -1\n",
      "Name: species, dtype: int8\n",
      "0.5\n",
      "===========\n",
      "64   -1\n",
      "88   -1\n",
      "94   -1\n",
      "96   -1\n",
      "99   -1\n",
      "Name: species, dtype: int8\n",
      "0.16666666666666666\n",
      "===========\n",
      "14   -1\n",
      "Name: species, dtype: int8\n",
      "0.5\n",
      "===========\n",
      "82   -1\n",
      "Name: species, dtype: int8\n",
      "0.5\n",
      "===========\n",
      "62   -1\n",
      "67    1\n",
      "71    1\n",
      "74   -1\n",
      "87    1\n",
      "92   -1\n",
      "97   -1\n",
      "Name: species, dtype: int8\n",
      "-23.875\n",
      "===========\n",
      "59   -1\n",
      "Name: species, dtype: int8\n",
      "0.5\n",
      "===========\n",
      "75   -1\n",
      "Name: species, dtype: int8\n",
      "0.5\n",
      "===========\n",
      "65   -1\n",
      "Name: species, dtype: int8\n",
      "0.5\n",
      "===========\n",
      "134    2\n",
      "Name: species, dtype: int8\n",
      "0.5\n",
      "===========\n",
      "55   -1\n",
      "73   -1\n",
      "76   -1\n",
      "Name: species, dtype: int8\n",
      "0.25\n",
      "===========\n",
      "50   -1\n",
      "58   -1\n",
      "63   -1\n",
      "91   -1\n",
      "Name: species, dtype: int8\n",
      "0.2\n",
      "===========\n",
      "54    -1\n",
      "68    -1\n",
      "72     1\n",
      "83     1\n",
      "101    2\n",
      "106    2\n",
      "108   -1\n",
      "111   -1\n",
      "113   -1\n",
      "119    2\n",
      "121   -1\n",
      "122   -1\n",
      "123   -1\n",
      "126   -1\n",
      "130   -1\n",
      "133   -1\n",
      "142    2\n",
      "146    2\n",
      "Name: species, dtype: int8\n",
      "219.05263157894737\n",
      "===========\n",
      "128    2\n",
      "Name: species, dtype: int8\n",
      "0.5\n",
      "===========\n",
      "114    2\n",
      "118   -1\n",
      "132   -1\n",
      "Name: species, dtype: int8\n",
      "inf\n",
      "===========\n",
      "66    1\n",
      "84   -1\n",
      "Name: species, dtype: int8\n",
      "inf\n",
      "===========\n",
      "51    -1\n",
      "52    -1\n",
      "56    -1\n",
      "61     1\n",
      "70    -1\n",
      "77    -1\n",
      "78    -1\n",
      "86    -1\n",
      "102   -1\n",
      "103   -1\n",
      "104    2\n",
      "105   -1\n",
      "107   -1\n",
      "110   -1\n",
      "112   -1\n",
      "115    2\n",
      "116   -1\n",
      "120   -1\n",
      "124   -1\n",
      "125    2\n",
      "127   -1\n",
      "129   -1\n",
      "137    2\n",
      "138   -1\n",
      "139    2\n",
      "141    2\n",
      "143    2\n",
      "145   -1\n",
      "147   -1\n",
      "149   -1\n",
      "Name: species, dtype: int8\n",
      "-73.25345622119816\n",
      "===========\n",
      "100    2\n",
      "Name: species, dtype: int8\n",
      "0.5\n",
      "===========\n",
      "140   -1\n",
      "144    2\n",
      "Name: species, dtype: int8\n",
      "3.3333333333333335\n",
      "===========\n",
      "85    -1\n",
      "109   -1\n",
      "136    2\n",
      "148   -1\n",
      "Name: species, dtype: int8\n",
      "-8.8\n",
      "===========\n",
      "117   -1\n",
      "131   -1\n",
      "135   -1\n",
      "Name: species, dtype: int8\n",
      "0.25\n",
      "===========\n"
     ]
    },
    {
     "name": "stderr",
     "output_type": "stream",
     "text": [
      "/usr/local/anaconda3/envs/fastai/lib/python3.7/site-packages/ipykernel_launcher.py:19: RuntimeWarning: divide by zero encountered in double_scalars\n"
     ]
    }
   ],
   "source": [
    "for i in mylist3:\n",
    "    print(i)\n",
    "    print(gini(i))\n",
    "    print(\"===========\")"
   ]
  },
  {
   "cell_type": "code",
   "execution_count": 75,
   "metadata": {},
   "outputs": [],
   "source": [
    "import numpy as np\n",
    "\n",
    "mu1 = 10\n",
    "sigma1 = 10\n",
    "\n",
    "s1 = np.random.normal(mu1, sigma1, 100000)\n",
    "hist1 = np.histogram(s1, bins=50, range=(-10,10), density=True)\n",
    "data = hist1[0]\n",
    "ent = -(data*np.log(np.abs(data))).sum()"
   ]
  },
  {
   "cell_type": "code",
   "execution_count": 76,
   "metadata": {},
   "outputs": [
    {
     "data": {
      "text/plain": [
       "7.170244479214976"
      ]
     },
     "execution_count": 76,
     "metadata": {},
     "output_type": "execute_result"
    }
   ],
   "source": [
    "ent"
   ]
  },
  {
   "cell_type": "code",
   "execution_count": 137,
   "metadata": {},
   "outputs": [
    {
     "ename": "TypeError",
     "evalue": "__init__() missing 1 required positional argument: 'weight'",
     "output_type": "error",
     "traceback": [
      "\u001b[0;31m---------------------------------------------------------------------------\u001b[0m",
      "\u001b[0;31mTypeError\u001b[0m                                 Traceback (most recent call last)",
      "\u001b[0;32m<ipython-input-137-0a2695b30824>\u001b[0m in \u001b[0;36m<module>\u001b[0;34m\u001b[0m\n\u001b[1;32m      1\u001b[0m \u001b[0mlistt\u001b[0m \u001b[0;34m=\u001b[0m\u001b[0;34m[\u001b[0m\u001b[0;34m]\u001b[0m\u001b[0;34m\u001b[0m\u001b[0;34m\u001b[0m\u001b[0m\n\u001b[1;32m      2\u001b[0m \u001b[0;32mfor\u001b[0m \u001b[0mi\u001b[0m \u001b[0;32min\u001b[0m \u001b[0mrange\u001b[0m\u001b[0;34m(\u001b[0m\u001b[0;36m0\u001b[0m\u001b[0;34m,\u001b[0m\u001b[0mnTrees\u001b[0m\u001b[0;34m)\u001b[0m\u001b[0;34m:\u001b[0m\u001b[0;34m\u001b[0m\u001b[0;34m\u001b[0m\u001b[0m\n\u001b[0;32m----> 3\u001b[0;31m     \u001b[0mTreey\u001b[0m\u001b[0;34m(\u001b[0m\u001b[0mi\u001b[0m\u001b[0;34m,\u001b[0m\u001b[0mNodes\u001b[0m\u001b[0;34m(\u001b[0m\u001b[0mterminals\u001b[0m\u001b[0;34m[\u001b[0m\u001b[0;34m:\u001b[0m\u001b[0;34m,\u001b[0m\u001b[0mi\u001b[0m\u001b[0;34m]\u001b[0m\u001b[0;34m)\u001b[0m\u001b[0;34m)\u001b[0m\u001b[0;34m\u001b[0m\u001b[0;34m\u001b[0m\u001b[0m\n\u001b[0m",
      "\u001b[0;31mTypeError\u001b[0m: __init__() missing 1 required positional argument: 'weight'"
     ]
    }
   ],
   "source": [
    "listt =[]\n",
    "for i in range(0,nTrees):\n",
    "    n=Nodes(terminals[:,i])\n",
    "    Treey(i,) "
   ]
  },
  {
   "cell_type": "code",
   "execution_count": null,
   "metadata": {},
   "outputs": [],
   "source": []
  },
  {
   "cell_type": "code",
   "execution_count": 97,
   "metadata": {},
   "outputs": [
    {
     "data": {
      "text/plain": [
       "0      0\n",
       "1      0\n",
       "2      0\n",
       "3      0\n",
       "4      0\n",
       "      ..\n",
       "145    2\n",
       "146    2\n",
       "147    2\n",
       "148    2\n",
       "149    2\n",
       "Name: species, Length: 150, dtype: int8"
      ]
     },
     "execution_count": 97,
     "metadata": {},
     "output_type": "execute_result"
    }
   ],
   "source": [
    "lbl"
   ]
  },
  {
   "cell_type": "code",
   "execution_count": 98,
   "metadata": {},
   "outputs": [],
   "source": [
    "# Create DataFrame \n",
    "df = pd.DataFrame(columns = list([\"Tree No\",\"Leaf Index\",\"label\"])) "
   ]
  },
  {
   "cell_type": "code",
   "execution_count": 99,
   "metadata": {},
   "outputs": [
    {
     "data": {
      "text/html": [
       "<div>\n",
       "<style scoped>\n",
       "    .dataframe tbody tr th:only-of-type {\n",
       "        vertical-align: middle;\n",
       "    }\n",
       "\n",
       "    .dataframe tbody tr th {\n",
       "        vertical-align: top;\n",
       "    }\n",
       "\n",
       "    .dataframe thead th {\n",
       "        text-align: right;\n",
       "    }\n",
       "</style>\n",
       "<table border=\"1\" class=\"dataframe\">\n",
       "  <thead>\n",
       "    <tr style=\"text-align: right;\">\n",
       "      <th></th>\n",
       "      <th>Tree No</th>\n",
       "      <th>Leaf Index</th>\n",
       "      <th>label</th>\n",
       "    </tr>\n",
       "  </thead>\n",
       "  <tbody>\n",
       "  </tbody>\n",
       "</table>\n",
       "</div>"
      ],
      "text/plain": [
       "Empty DataFrame\n",
       "Columns: [Tree No, Leaf Index, label]\n",
       "Index: []"
      ]
     },
     "execution_count": 99,
     "metadata": {},
     "output_type": "execute_result"
    }
   ],
   "source": [
    "df"
   ]
  },
  {
   "cell_type": "code",
   "execution_count": 100,
   "metadata": {},
   "outputs": [],
   "source": [
    "df[\"Leaf Index\"]= terminals[:,0]"
   ]
  },
  {
   "cell_type": "code",
   "execution_count": 108,
   "metadata": {},
   "outputs": [],
   "source": [
    "df[\"Tree No\"] = 0"
   ]
  },
  {
   "cell_type": "code",
   "execution_count": 102,
   "metadata": {},
   "outputs": [],
   "source": [
    "df[\"label\"]=lbl"
   ]
  },
  {
   "cell_type": "code",
   "execution_count": 107,
   "metadata": {},
   "outputs": [
    {
     "data": {
      "text/plain": [
       "64     1\n",
       "42     0\n",
       "32     0\n",
       "117    2\n",
       "122    2\n",
       "      ..\n",
       "11     0\n",
       "80     1\n",
       "33     0\n",
       "60     1\n",
       "109    2\n",
       "Name: label, Length: 105, dtype: int8"
      ]
     },
     "execution_count": 107,
     "metadata": {},
     "output_type": "execute_result"
    }
   ],
   "source": [
    "df.label[num]"
   ]
  },
  {
   "cell_type": "code",
   "execution_count": null,
   "metadata": {},
   "outputs": [],
   "source": [
    "L = list(data)\n",
    "A = list(data)\n",
    "data_frame = pd.DataFrame(L) \n",
    "data_frame['A'] = pd.Series(A, index=data_frame.index)"
   ]
  },
  {
   "cell_type": "code",
   "execution_count": null,
   "metadata": {},
   "outputs": [],
   "source": [
    "def trainLeafs(df_raw,RF):\n",
    "    "
   ]
  }
 ],
 "metadata": {
  "kernelspec": {
   "display_name": "Python 3",
   "language": "python",
   "name": "python3"
  },
  "language_info": {
   "codemirror_mode": {
    "name": "ipython",
    "version": 3
   },
   "file_extension": ".py",
   "mimetype": "text/x-python",
   "name": "python",
   "nbconvert_exporter": "python",
   "pygments_lexer": "ipython3",
   "version": "3.7.9"
  }
 },
 "nbformat": 4,
 "nbformat_minor": 4
}
