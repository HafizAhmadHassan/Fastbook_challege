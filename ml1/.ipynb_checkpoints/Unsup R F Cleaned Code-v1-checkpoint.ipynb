{
 "cells": [
  {
   "cell_type": "markdown",
   "metadata": {},
   "source": [
    "# Unsupervised Random Forest\n",
    "Calling Sequence  \n",
    " \n",
    "1. make data set unsupervised RF\n",
    "\n",
    "2. Forset Caller\n",
    "\n",
    "3. Proximity Matrix\n",
    "\n",
    "4. Clustring\n"
   ]
  },
  {
   "cell_type": "code",
   "execution_count": 1,
   "metadata": {},
   "outputs": [],
   "source": [
    "%load_ext autoreload\n",
    "%autoreload 2\n",
    "\n",
    "%matplotlib inline"
   ]
  },
  {
   "cell_type": "code",
   "execution_count": 2,
   "metadata": {},
   "outputs": [
    {
     "name": "stderr",
     "output_type": "stream",
     "text": [
      "/usr/local/anaconda3/envs/fastai/lib/python3.7/site-packages/sklearn/utils/deprecation.py:143: FutureWarning: The sklearn.ensemble.forest module is  deprecated in version 0.22 and will be removed in version 0.24. The corresponding classes / functions should instead be imported from sklearn.ensemble. Anything that cannot be imported from sklearn.ensemble is now part of the private API.\n",
      "  warnings.warn(message, FutureWarning)\n"
     ]
    }
   ],
   "source": [
    "import datetime\n",
    "import calendar\n",
    "import random\n",
    "import numpy\n",
    "import pandas as pd\n",
    "import uuid\n",
    "\n",
    "from fastai.imports import *\n",
    "from fastai.structured import *\n",
    "from pandas_summary import DataFrameSummary\n",
    "from sklearn.ensemble import RandomForestRegressor, RandomForestClassifier\n",
    "from IPython.display import display\n",
    "from sklearn import metrics\n",
    "from scipy.cluster.hierarchy import dendrogram, linkage\n",
    "from scipy.spatial.distance import squareform\n",
    "from sklearn_extra.cluster import KMedoids\n",
    "from sklearn.cluster import AgglomerativeClustering\n",
    "from sklearn.metrics import confusion_matrix\n"
   ]
  },
  {
   "cell_type": "code",
   "execution_count": 5,
   "metadata": {},
   "outputs": [],
   "source": [
    "def display_all(df):\n",
    "    with pd.option_context(\"display.max_rows\", 1000, \"display.max_columns\", 1000): \n",
    "        display(df)"
   ]
  },
  {
   "cell_type": "code",
   "execution_count": 6,
   "metadata": {},
   "outputs": [],
   "source": [
    "def proximityMatrix(model, X, normalize=True):      \n",
    "\n",
    "    terminals = model.apply(X)\n",
    "    nTrees = terminals.shape[1]\n",
    "\n",
    "    a = terminals[:,0]\n",
    "    proxMat = 1*np.equal.outer(a, a)\n",
    "\n",
    "    for i in range(1, nTrees):\n",
    "        a = terminals[:,i]\n",
    "        proxMat += 1*np.equal.outer(a, a)\n",
    "\n",
    "    if normalize:\n",
    "        proxMat = proxMat / nTrees\n",
    "\n",
    "    return proxMat   "
   ]
  },
  {
   "cell_type": "code",
   "execution_count": 7,
   "metadata": {},
   "outputs": [],
   "source": [
    "def readAndSavefile(PATH,filename,ram=0):\n",
    "    df_raw = pd.read_csv(f'{PATH}{filename}', low_memory=False)\n",
    "    if (ram == 1):\n",
    "        os.makedirs('tmp', exist_ok=True)\n",
    "        df_raw.to_feather(f'tmp/{filename}-raw')\n",
    "    return df_raw"
   ]
  },
  {
   "cell_type": "code",
   "execution_count": 8,
   "metadata": {},
   "outputs": [],
   "source": [
    "def statis(df_raw):    \n",
    "    s1 = display_all(df_raw.tail().T)\n",
    "    #statistics\n",
    "    s2 = display_all(df_raw.describe(include='all').T)\n",
    "    #missing calculator\n",
    "    s3 = display_all(df_raw.isnull().sum().sort_index()/len(df_raw))\n",
    "    \n",
    "    return s1,s2,s3"
   ]
  },
  {
   "cell_type": "code",
   "execution_count": 9,
   "metadata": {},
   "outputs": [],
   "source": [
    "def forestCaller(df_raw,label):\n",
    "    m = RandomForestClassifier(n_jobs=-1) \n",
    "    m.fit(df_raw,label)\n",
    "    return m,m.score(df_raw,label)\n"
   ]
  },
  {
   "cell_type": "code",
   "execution_count": 10,
   "metadata": {},
   "outputs": [],
   "source": [
    "def format_dataset(df_raw,labelname):\n",
    "    df = df_raw.drop(labelname, axis=1)\n",
    "    y = df_raw.labelname\n",
    "    return df,y"
   ]
  },
  {
   "cell_type": "code",
   "execution_count": 11,
   "metadata": {},
   "outputs": [],
   "source": [
    "class Disti:\n",
    "    def __init__(self, values, counting):\n",
    "        self.values = values\n",
    "        self.counting = counting"
   ]
  },
  {
   "cell_type": "code",
   "execution_count": 12,
   "metadata": {},
   "outputs": [],
   "source": [
    "def synthetic_MarginalData(df_raw):\n",
    "    columnsN=df_raw.columns\n",
    "    list = []\n",
    "    for colind in range(len(columnsN)):\n",
    "        a = df_raw[columnsN[colind]].value_counts().axes\n",
    "        b = df_raw[columnsN[colind]].value_counts().array\n",
    "        list.append(Disti(a,b))\n",
    "    arrRan=np.zeros(len(columnsN)-1)\n",
    "\n",
    "    \n",
    "    columns = columnsN\n",
    "    df = pd.DataFrame(columns=columns)\n",
    "\n",
    "    for i in range(len(df_raw)):\n",
    "        for colind in range(len(columnsN)-1):\n",
    "            arrRan[colind]=random.choices(np.reshape(np.array(list[colind].values),(np.shape(list[colind].values)[1],)),weights=np.array(list[colind].counting))[0]\n",
    "        arr = np.append(arrRan,0)\n",
    "        df.loc[i]= (arr)\n",
    "    return df\n",
    "    "
   ]
  },
  {
   "cell_type": "code",
   "execution_count": 13,
   "metadata": {},
   "outputs": [],
   "source": [
    "def makeDataset_UnSupervRF(df_raw,labelname):\n",
    "    df_raw[[labelname]]=1\n",
    "    new_df=pd.concat([df_raw , synthetic_MarginalData(df_raw)])\n",
    "    return new_df"
   ]
  },
  {
   "cell_type": "code",
   "execution_count": 14,
   "metadata": {},
   "outputs": [],
   "source": [
    "df_raw=readAndSavefile(\"../../../iris/\", \"iris.csv\")"
   ]
  },
  {
   "cell_type": "code",
   "execution_count": 15,
   "metadata": {},
   "outputs": [],
   "source": [
    "train_cats(df_raw)\n",
    "\n",
    "pred_actual = df_raw.species.cat.codes"
   ]
  },
  {
   "cell_type": "code",
   "execution_count": 16,
   "metadata": {},
   "outputs": [],
   "source": [
    "c_df=makeDataset_UnSupervRF(df_raw,\"species\")"
   ]
  },
  {
   "cell_type": "code",
   "execution_count": 21,
   "metadata": {},
   "outputs": [],
   "source": [
    "RF,sRF=forestCaller(c_df.drop(\"species\",axis=1),c_df.species) "
   ]
  },
  {
   "cell_type": "code",
   "execution_count": 22,
   "metadata": {},
   "outputs": [
    {
     "data": {
      "text/plain": [
       "1.0"
      ]
     },
     "execution_count": 22,
     "metadata": {},
     "output_type": "execute_result"
    }
   ],
   "source": [
    "sRF"
   ]
  },
  {
   "cell_type": "code",
   "execution_count": 23,
   "metadata": {},
   "outputs": [],
   "source": [
    "Prm=proximityMatrix(RF, c_df.drop(\"species\",axis=1), normalize=True)\n",
    "dm = (1-Prm)"
   ]
  },
  {
   "cell_type": "code",
   "execution_count": 24,
   "metadata": {},
   "outputs": [],
   "source": [
    "dm=dm[:int(np.shape(dm)[0]/2),:int(np.shape(dm)[0]/2)]"
   ]
  },
  {
   "cell_type": "code",
   "execution_count": 25,
   "metadata": {},
   "outputs": [],
   "source": [
    "cluster_p = KMedoids(n_clusters=3, random_state=0)"
   ]
  },
  {
   "cell_type": "code",
   "execution_count": 26,
   "metadata": {},
   "outputs": [
    {
     "data": {
      "text/plain": [
       "array([1, 1, 1, 1, 1, 1, 1, 1, 1, 1, 1, 1, 1, 1, 1, 1, 1, 1, 1, 1, 1, 1, 1, 1, 1, 1, 1, 1, 1, 1, 1, 1, 1, 1,\n",
       "       1, 1, 1, 1, 1, 1, 1, 1, 1, 1, 1, 1, 1, 1, 1, 1, 2, 0, 2, 0, 0, 0, 0, 0, 0, 0, 0, 0, 0, 0, 0, 0, 0, 0,\n",
       "       0, 0, 0, 0, 0, 0, 0, 0, 0, 2, 0, 0, 0, 0, 0, 0, 0, 0, 2, 0, 0, 0, 0, 0, 0, 0, 0, 0, 0, 0, 0, 0, 2, 0,\n",
       "       2, 2, 2, 2, 0, 2, 2, 2, 2, 2, 2, 0, 0, 2, 2, 2, 2, 0, 2, 0, 2, 0, 2, 2, 0, 0, 2, 2, 2, 2, 2, 0, 0, 2,\n",
       "       2, 2, 0, 2, 2, 2, 0, 2, 2, 2, 0, 2, 2, 0])"
      ]
     },
     "execution_count": 26,
     "metadata": {},
     "output_type": "execute_result"
    }
   ],
   "source": [
    "cluster_p.fit_predict(dm)"
   ]
  },
  {
   "cell_type": "code",
   "execution_count": 27,
   "metadata": {},
   "outputs": [
    {
     "data": {
      "text/plain": [
       "array([[ 0, 50,  0],\n",
       "       [46,  0,  4],\n",
       "       [15,  0, 35]])"
      ]
     },
     "execution_count": 27,
     "metadata": {},
     "output_type": "execute_result"
    }
   ],
   "source": [
    "confusion_matrix(pred_actual, cluster_p.labels_)"
   ]
  },
  {
   "cell_type": "code",
   "execution_count": 28,
   "metadata": {},
   "outputs": [
    {
     "data": {
      "text/plain": [
       "0.6906098592632469"
      ]
     },
     "execution_count": 28,
     "metadata": {},
     "output_type": "execute_result"
    }
   ],
   "source": [
    "sklearn.metrics.adjusted_rand_score(pred_actual, cluster_p.labels_)"
   ]
  },
  {
   "cell_type": "markdown",
   "metadata": {},
   "source": [
    "# Semi Supervision\n",
    "1. Generate Sample Dataset\n",
    "2. Assigned removed label -1 value\n",
    "3. Generate Classs Each Tree with leafs\n"
   ]
  },
  {
   "cell_type": "code",
   "execution_count": 29,
   "metadata": {},
   "outputs": [],
   "source": [
    "class Nodes:\n",
    "    def __init__(self,leafs,indleaf):\n",
    "        self.leafs = leafs\n",
    "        self.indleaf =indleaf"
   ]
  },
  {
   "cell_type": "code",
   "execution_count": 30,
   "metadata": {},
   "outputs": [],
   "source": [
    "class SemiDf:\n",
    "    def __init__(self,data,label):\n",
    "        self.data = data\n",
    "        self.label = label"
   ]
  },
  {
   "cell_type": "code",
   "execution_count": 31,
   "metadata": {},
   "outputs": [],
   "source": [
    "\n",
    "class Treey:\n",
    "    def __init__(self,index,nodes,weights):\n",
    "        self.index = index\n",
    "        self.nodes = nodes\n",
    "        self.weights=weights"
   ]
  },
  {
   "cell_type": "code",
   "execution_count": 32,
   "metadata": {},
   "outputs": [],
   "source": [
    "def semiData_Gen(filepath,filename,labelname,dataRatio=0.7):\n",
    "    semi_df=readAndSavefile(filepath, filename)\n",
    "    num = np.random.choice(range(0, len(semi_df)),int(len(semi_df)*dataRatio),replace=False)\n",
    "    if(type(semi_df[labelname][0]) is str):\n",
    "        train_cats(semi_df)\n",
    "        semi_df[labelname] = semi_df[labelname].cat.codes\n",
    "    semi_df.at[num, labelname] = float(\"NaN\")\n",
    "    lbl = semi_df[labelname]\n",
    "    return semi_df.drop(labelname,axis=1),lbl\n"
   ]
  },
  {
   "cell_type": "code",
   "execution_count": 33,
   "metadata": {},
   "outputs": [],
   "source": [
    "semi_df,lbl = semiData_Gen(\"../../../iris/\",\"iris.csv\",\"species\")\n",
    "SmDt=SemiDf(semi_df,lbl)"
   ]
  },
  {
   "cell_type": "code",
   "execution_count": 34,
   "metadata": {},
   "outputs": [],
   "source": [
    "def leaf_Weight_helper(RF,SmDt): #random forest and semisupervised data\n",
    "    terminals=RF.apply(SmDt.data)\n",
    "    nTrees = terminals.shape[1]\n",
    "    leafs = []\n",
    "    storeNodes= []\n",
    "    for i in range(nTrees):\n",
    "        uniqleaf = set(terminals[:,i])\n",
    "        leafs.append(uniqleaf)\n",
    "        mylist = []\n",
    "        for j in uniqleaf:\n",
    "            l=[index for index, value in enumerate(terminals[:,i]) if value == j]\n",
    "            mylist.append(l)\n",
    "        n = Nodes(uniqleaf,mylist)\n",
    "        storeNodes.append(n)\n",
    "        mylist=[]\n",
    "    return storeNodes\n",
    "    "
   ]
  },
  {
   "cell_type": "code",
   "execution_count": 35,
   "metadata": {},
   "outputs": [],
   "source": [
    "y = leaf_Weight_helper(RF,SmDt) #y[0].leafs #y[1].indleaf"
   ]
  },
  {
   "cell_type": "code",
   "execution_count": 36,
   "metadata": {},
   "outputs": [],
   "source": [
    "def Tree_leaf_weight(y,SmDt):  \n",
    "    mylist3 =[]\n",
    "    len(y)\n",
    "    weights= []\n",
    "    listTree = []\n",
    "    for j in range(len(y)):\n",
    "        for i in y[j].indleaf:\n",
    "            mylist3.append(SmDt.label[i])\n",
    "        for i in mylist3:\n",
    "            t=np.var(i)\n",
    "            if(math.isnan(t)):\n",
    "                t = 0.5\n",
    "            weights.append(1-t)\n",
    "        t=Treey(j,y[j],weights)\n",
    "        listTree.append(t)\n",
    "        weights=[]\n",
    "        mylist3=[]\n",
    "    return listTree"
   ]
  },
  {
   "cell_type": "code",
   "execution_count": 37,
   "metadata": {},
   "outputs": [],
   "source": [
    "tl=Tree_leaf_weight(y,SmDt)"
   ]
  },
  {
   "cell_type": "markdown",
   "metadata": {},
   "source": [
    "# Experiments"
   ]
  },
  {
   "cell_type": "code",
   "execution_count": 38,
   "metadata": {},
   "outputs": [],
   "source": [
    "terminals = RF.apply(c_df.drop(\"species\",axis=1))\n",
    "nTrees = terminals.shape[1]\n"
   ]
  },
  {
   "cell_type": "code",
   "execution_count": 39,
   "metadata": {},
   "outputs": [
    {
     "data": {
      "text/plain": [
       "array([[74, 72, 43, ..., 15, 13, 21],\n",
       "       [ 5, 10,  9, ..., 11,  9,  4],\n",
       "       [71, 68, 33, ..., 11,  9, 21],\n",
       "       ...,\n",
       "       [38, 48, 45, ..., 45, 71, 49],\n",
       "       [51, 97, 69, ..., 33, 64, 71],\n",
       "       [87, 78, 57, ..., 33, 65, 27]])"
      ]
     },
     "execution_count": 39,
     "metadata": {},
     "output_type": "execute_result"
    }
   ],
   "source": [
    "terminals"
   ]
  },
  {
   "cell_type": "code",
   "execution_count": 40,
   "metadata": {},
   "outputs": [],
   "source": [
    "    a = terminals[:,0]\n",
    "\n"
   ]
  },
  {
   "cell_type": "code",
   "execution_count": 41,
   "metadata": {},
   "outputs": [
    {
     "data": {
      "text/plain": [
       "array([ 74,   5,  71,  71,  74,  79,  72,  74,   5,  71,  74,  71,   5,   5,  87,  84,  79,  78,  84,  78,\n",
       "        74,  79,  71,  79,  71,   6,  79,  74,  74,  71,  71,  79,  74,  84,  71,  74,  84,  71,   5,  74,\n",
       "        78,   5,  71,  79,  79,   5,  74,  71,  74,  74, 116, 105, 116,  31,  44,  33, 108,  12,  33,  19,\n",
       "        12,  44,  31,  40,  33,  89,  44,  31,  44,  31,  96,  33,  44,  40,  33,  36,  45,  44,  44,  31,\n",
       "        31,  31,  31,  44,  24,  93, 107,  31,  33,  31,  31,  36,  31,  12,  31,  33,  33,  33,  14,  33,\n",
       "       111,  44,  65,  64,  64,  65,  12,  65,  63, 116, 111,  44,  64,  44,  50, 111,  64, 116,  65,  44,\n",
       "       116,  44,  65,  44, 111, 116,  44,  44,  64,  60,  65, 116,  64,  44,  60,  65, 111, 109,  44, 116,\n",
       "       111, 116,  44, 116, 111,  54,  44,  44, 111,  44,  72,  98,  26,  59,   6,  80,  51,  80, 115,  87,\n",
       "        72,  51,  57,  72,  21,  85,  59,   6, 113,  43,  87, 113, 113,  59,  44,  51,  26,  87,  57,  26,\n",
       "        87,   6,  23,  80,  41,  49,  80,  53,  35,   6,  17,  15,   6,  72,  57,   6,  80,  87,  87,  51,\n",
       "        87,   6,  57, 110,  26,  57,  87,   6,   6,  17, 110,  57, 113,  80,  57,   9,  80,  96,   6,  80,\n",
       "        26,   9,  57,  31,  45,  51,   6,  50,  45,   6,  57,  80,  87,   6,   6,   6, 107,  80,  57,  57,\n",
       "        74,  80,   6,  49,   6,  80,  80,  63,  59, 115,  87,   6,  87,  98,  77,   6,  87,  57,  26,  17,\n",
       "        98,  72,  85,  90,  21, 106,  17,  17,  26,   6,  87,  87,  38,  87,  26,  49,  17,  63,   6,  98,\n",
       "         6,  98,  72,  97,  57,  51,  80, 115,  98,  35,   6,  43,  26,  84,  57,  26,  17,  38,  51,  87])"
      ]
     },
     "execution_count": 41,
     "metadata": {},
     "output_type": "execute_result"
    }
   ],
   "source": [
    "a"
   ]
  },
  {
   "cell_type": "code",
   "execution_count": 42,
   "metadata": {},
   "outputs": [
    {
     "data": {
      "text/plain": [
       "array([[5476,  370, 5254, ..., 2812, 3774, 6438],\n",
       "       [ 370,   25,  355, ...,  190,  255,  435],\n",
       "       [5254,  355, 5041, ..., 2698, 3621, 6177],\n",
       "       ...,\n",
       "       [2812,  190, 2698, ..., 1444, 1938, 3306],\n",
       "       [3774,  255, 3621, ..., 1938, 2601, 4437],\n",
       "       [6438,  435, 6177, ..., 3306, 4437, 7569]])"
      ]
     },
     "execution_count": 42,
     "metadata": {},
     "output_type": "execute_result"
    }
   ],
   "source": [
    "np.outer(a,a)"
   ]
  },
  {
   "cell_type": "code",
   "execution_count": 43,
   "metadata": {},
   "outputs": [],
   "source": [
    "?np.equal.outer"
   ]
  },
  {
   "cell_type": "code",
   "execution_count": 44,
   "metadata": {},
   "outputs": [
    {
     "data": {
      "text/plain": [
       "array([[ True, False, False, ..., False, False, False],\n",
       "       [False,  True, False, ..., False, False, False],\n",
       "       [False, False,  True, ..., False, False, False],\n",
       "       ...,\n",
       "       [False, False, False, ...,  True, False, False],\n",
       "       [False, False, False, ..., False,  True, False],\n",
       "       [False, False, False, ..., False, False,  True]])"
      ]
     },
     "execution_count": 44,
     "metadata": {},
     "output_type": "execute_result"
    }
   ],
   "source": [
    "np.equal.outer(a,a)"
   ]
  },
  {
   "cell_type": "code",
   "execution_count": 52,
   "metadata": {},
   "outputs": [
    {
     "data": {
      "text/plain": [
       "{11,\n",
       " 13,\n",
       " 15,\n",
       " 17,\n",
       " 18,\n",
       " 23,\n",
       " 30,\n",
       " 38,\n",
       " 41,\n",
       " 44,\n",
       " 45,\n",
       " 49,\n",
       " 51,\n",
       " 53,\n",
       " 56,\n",
       " 58,\n",
       " 62,\n",
       " 65,\n",
       " 69,\n",
       " 71,\n",
       " 75,\n",
       " 77,\n",
       " 82,\n",
       " 83,\n",
       " 85,\n",
       " 89,\n",
       " 90,\n",
       " 92,\n",
       " 93,\n",
       " 96,\n",
       " 100}"
      ]
     },
     "execution_count": 52,
     "metadata": {},
     "output_type": "execute_result"
    }
   ],
   "source": [
    "tl[0].nodes.leafs"
   ]
  },
  {
   "cell_type": "code",
   "execution_count": 51,
   "metadata": {},
   "outputs": [
    {
     "data": {
      "text/plain": [
       "[[41],\n",
       " [57, 60, 93],\n",
       " [1,\n",
       "  2,\n",
       "  3,\n",
       "  6,\n",
       "  7,\n",
       "  8,\n",
       "  9,\n",
       "  11,\n",
       "  12,\n",
       "  13,\n",
       "  24,\n",
       "  25,\n",
       "  26,\n",
       "  29,\n",
       "  30,\n",
       "  34,\n",
       "  35,\n",
       "  37,\n",
       "  38,\n",
       "  42,\n",
       "  45,\n",
       "  47,\n",
       "  49],\n",
       " [98],\n",
       " [23, 28, 39],\n",
       " [59, 106],\n",
       " [20, 31],\n",
       " [53,\n",
       "  55,\n",
       "  61,\n",
       "  64,\n",
       "  66,\n",
       "  67,\n",
       "  69,\n",
       "  79,\n",
       "  80,\n",
       "  81,\n",
       "  82,\n",
       "  84,\n",
       "  88,\n",
       "  89,\n",
       "  90,\n",
       "  92,\n",
       "  94,\n",
       "  95,\n",
       "  96,\n",
       "  99],\n",
       " [62],\n",
       " [71],\n",
       " [51, 54, 58, 65, 68, 74, 75, 78, 85, 87, 91, 97],\n",
       " [121],\n",
       " [70],\n",
       " [149],\n",
       " [101, 113, 114, 142],\n",
       " [73],\n",
       " [56, 63, 76, 86, 126, 138],\n",
       " [83, 119],\n",
       " [72, 77, 123, 127, 133, 146],\n",
       " [103, 108, 111, 116, 134, 137],\n",
       " [110, 147],\n",
       " [100, 104, 112, 115, 124, 128, 132, 136, 140, 143, 144, 145, 148],\n",
       " [50],\n",
       " [52],\n",
       " [141],\n",
       " [118, 122, 130],\n",
       " [102, 105, 107, 120, 125, 129, 135, 139],\n",
       " [0, 17, 36, 40],\n",
       " [27, 43],\n",
       " [4, 5, 10, 14, 15, 16, 18, 19, 21, 22, 32, 33, 44, 46, 48],\n",
       " [109, 117, 131]]"
      ]
     },
     "execution_count": 51,
     "metadata": {},
     "output_type": "execute_result"
    }
   ],
   "source": [
    "tl[0].nodes.indleaf"
   ]
  },
  {
   "cell_type": "code",
   "execution_count": null,
   "metadata": {},
   "outputs": [],
   "source": [
    "#https://stackoverflow.com/questions/39626432/how-to-calculate-entropy-from-np-histogram"
   ]
  }
 ],
 "metadata": {
  "kernelspec": {
   "display_name": "Python 3",
   "language": "python",
   "name": "python3"
  },
  "language_info": {
   "codemirror_mode": {
    "name": "ipython",
    "version": 3
   },
   "file_extension": ".py",
   "mimetype": "text/x-python",
   "name": "python",
   "nbconvert_exporter": "python",
   "pygments_lexer": "ipython3",
   "version": "3.7.9"
  }
 },
 "nbformat": 4,
 "nbformat_minor": 4
}
