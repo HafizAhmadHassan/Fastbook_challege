{
 "cells": [
  {
   "cell_type": "code",
   "execution_count": 1,
   "metadata": {},
   "outputs": [],
   "source": [
    "%load_ext autoreload\n",
    "%autoreload 2\n",
    "\n",
    "%matplotlib inline"
   ]
  },
  {
   "cell_type": "code",
   "execution_count": 2,
   "metadata": {},
   "outputs": [
    {
     "name": "stderr",
     "output_type": "stream",
     "text": [
      "/usr/local/anaconda3/envs/fastai/lib/python3.7/site-packages/sklearn/utils/deprecation.py:143: FutureWarning: The sklearn.ensemble.forest module is  deprecated in version 0.22 and will be removed in version 0.24. The corresponding classes / functions should instead be imported from sklearn.ensemble. Anything that cannot be imported from sklearn.ensemble is now part of the private API.\n",
      "  warnings.warn(message, FutureWarning)\n"
     ]
    }
   ],
   "source": [
    "import datetime\n",
    "import calendar\n",
    "import random\n",
    "import numpy\n",
    "import pandas as pd\n",
    "import uuid\n",
    "\n",
    "from fastai.imports import *\n",
    "from fastai.structured import *\n",
    "from pandas_summary import DataFrameSummary\n",
    "from sklearn.ensemble import RandomForestRegressor, RandomForestClassifier\n",
    "from IPython.display import display\n",
    "from sklearn import metrics\n",
    "from scipy.cluster.hierarchy import dendrogram, linkage\n",
    "from scipy.spatial.distance import squareform\n",
    "from sklearn_extra.cluster import KMedoids\n",
    "from sklearn.cluster import AgglomerativeClustering\n",
    "from sklearn.metrics import confusion_matrix\n"
   ]
  },
  {
   "cell_type": "code",
   "execution_count": 3,
   "metadata": {},
   "outputs": [],
   "source": [
    "def display_all(df):\n",
    "    with pd.option_context(\"display.max_rows\", 1000, \"display.max_columns\", 1000): \n",
    "        display(df)"
   ]
  },
  {
   "cell_type": "code",
   "execution_count": 4,
   "metadata": {},
   "outputs": [],
   "source": [
    "def proximityMatrix(model, X, normalize=True):      \n",
    "\n",
    "    terminals = model.apply(X)\n",
    "    nTrees = terminals.shape[1]\n",
    "\n",
    "    a = terminals[:,0]\n",
    "    proxMat = 1*np.equal.outer(a, a)\n",
    "\n",
    "    for i in range(1, nTrees):\n",
    "        a = terminals[:,i]\n",
    "        proxMat += 1*np.equal.outer(a, a)\n",
    "\n",
    "    if normalize:\n",
    "        proxMat = proxMat / nTrees\n",
    "\n",
    "    return proxMat   "
   ]
  },
  {
   "cell_type": "code",
   "execution_count": 14,
   "metadata": {},
   "outputs": [],
   "source": [
    "def readAndSavefile(PATH,filename):\n",
    "    df_raw = pd.read_csv(f'{PATH}{filename}', low_memory=False)\n",
    "    os.makedirs('tmp', exist_ok=True)\n",
    "    df_raw.to_feather(f'tmp/{filename}-raw')\n",
    "    return df_raw"
   ]
  },
  {
   "cell_type": "code",
   "execution_count": 6,
   "metadata": {},
   "outputs": [],
   "source": [
    "def statis(df_raw):    \n",
    "    s1 = display_all(df_raw.tail().T)\n",
    "    #statistics\n",
    "    s2 = display_all(df_raw.describe(include='all').T)\n",
    "    #missing calculator\n",
    "    s3 = display_all(df_raw.isnull().sum().sort_index()/len(df_raw))\n",
    "    \n",
    "    return s1,s2,s3"
   ]
  },
  {
   "cell_type": "code",
   "execution_count": 7,
   "metadata": {},
   "outputs": [
    {
     "data": {
      "text/html": [
       "<div>\n",
       "<style scoped>\n",
       "    .dataframe tbody tr th:only-of-type {\n",
       "        vertical-align: middle;\n",
       "    }\n",
       "\n",
       "    .dataframe tbody tr th {\n",
       "        vertical-align: top;\n",
       "    }\n",
       "\n",
       "    .dataframe thead th {\n",
       "        text-align: right;\n",
       "    }\n",
       "</style>\n",
       "<table border=\"1\" class=\"dataframe\">\n",
       "  <thead>\n",
       "    <tr style=\"text-align: right;\">\n",
       "      <th></th>\n",
       "      <th>sepal_length</th>\n",
       "      <th>sepal_width</th>\n",
       "      <th>petal_length</th>\n",
       "      <th>petal_width</th>\n",
       "      <th>species</th>\n",
       "    </tr>\n",
       "  </thead>\n",
       "  <tbody>\n",
       "    <tr>\n",
       "      <th>0</th>\n",
       "      <td>5.1</td>\n",
       "      <td>3.5</td>\n",
       "      <td>1.4</td>\n",
       "      <td>0.2</td>\n",
       "      <td>setosa</td>\n",
       "    </tr>\n",
       "    <tr>\n",
       "      <th>1</th>\n",
       "      <td>4.9</td>\n",
       "      <td>3.0</td>\n",
       "      <td>1.4</td>\n",
       "      <td>0.2</td>\n",
       "      <td>setosa</td>\n",
       "    </tr>\n",
       "    <tr>\n",
       "      <th>2</th>\n",
       "      <td>4.7</td>\n",
       "      <td>3.2</td>\n",
       "      <td>1.3</td>\n",
       "      <td>0.2</td>\n",
       "      <td>setosa</td>\n",
       "    </tr>\n",
       "    <tr>\n",
       "      <th>3</th>\n",
       "      <td>4.6</td>\n",
       "      <td>3.1</td>\n",
       "      <td>1.5</td>\n",
       "      <td>0.2</td>\n",
       "      <td>setosa</td>\n",
       "    </tr>\n",
       "    <tr>\n",
       "      <th>4</th>\n",
       "      <td>5.0</td>\n",
       "      <td>3.6</td>\n",
       "      <td>1.4</td>\n",
       "      <td>0.2</td>\n",
       "      <td>setosa</td>\n",
       "    </tr>\n",
       "    <tr>\n",
       "      <th>...</th>\n",
       "      <td>...</td>\n",
       "      <td>...</td>\n",
       "      <td>...</td>\n",
       "      <td>...</td>\n",
       "      <td>...</td>\n",
       "    </tr>\n",
       "    <tr>\n",
       "      <th>145</th>\n",
       "      <td>6.7</td>\n",
       "      <td>3.0</td>\n",
       "      <td>5.2</td>\n",
       "      <td>2.3</td>\n",
       "      <td>virginica</td>\n",
       "    </tr>\n",
       "    <tr>\n",
       "      <th>146</th>\n",
       "      <td>6.3</td>\n",
       "      <td>2.5</td>\n",
       "      <td>5.0</td>\n",
       "      <td>1.9</td>\n",
       "      <td>virginica</td>\n",
       "    </tr>\n",
       "    <tr>\n",
       "      <th>147</th>\n",
       "      <td>6.5</td>\n",
       "      <td>3.0</td>\n",
       "      <td>5.2</td>\n",
       "      <td>2.0</td>\n",
       "      <td>virginica</td>\n",
       "    </tr>\n",
       "    <tr>\n",
       "      <th>148</th>\n",
       "      <td>6.2</td>\n",
       "      <td>3.4</td>\n",
       "      <td>5.4</td>\n",
       "      <td>2.3</td>\n",
       "      <td>virginica</td>\n",
       "    </tr>\n",
       "    <tr>\n",
       "      <th>149</th>\n",
       "      <td>5.9</td>\n",
       "      <td>3.0</td>\n",
       "      <td>5.1</td>\n",
       "      <td>1.8</td>\n",
       "      <td>virginica</td>\n",
       "    </tr>\n",
       "  </tbody>\n",
       "</table>\n",
       "<p>150 rows × 5 columns</p>\n",
       "</div>"
      ],
      "text/plain": [
       "     sepal_length  sepal_width  petal_length  petal_width    species\n",
       "0             5.1          3.5           1.4          0.2     setosa\n",
       "1             4.9          3.0           1.4          0.2     setosa\n",
       "2             4.7          3.2           1.3          0.2     setosa\n",
       "3             4.6          3.1           1.5          0.2     setosa\n",
       "4             5.0          3.6           1.4          0.2     setosa\n",
       "..            ...          ...           ...          ...        ...\n",
       "145           6.7          3.0           5.2          2.3  virginica\n",
       "146           6.3          2.5           5.0          1.9  virginica\n",
       "147           6.5          3.0           5.2          2.0  virginica\n",
       "148           6.2          3.4           5.4          2.3  virginica\n",
       "149           5.9          3.0           5.1          1.8  virginica\n",
       "\n",
       "[150 rows x 5 columns]"
      ]
     },
     "execution_count": 7,
     "metadata": {},
     "output_type": "execute_result"
    }
   ],
   "source": [
    "readfile(\"../../../iris/\", \"iris.csv\")"
   ]
  },
  {
   "cell_type": "code",
   "execution_count": null,
   "metadata": {},
   "outputs": [],
   "source": [
    "def forestCaller(df_raw,labelname):\n",
    "    m = RandomForestClassifier(n_jobs=-1) \n",
    "    m.fit(df_raw.drop(labelname, axis=1), df_raw.labelname)\n",
    "    return m,m.score\n"
   ]
  },
  {
   "cell_type": "code",
   "execution_count": null,
   "metadata": {},
   "outputs": [],
   "source": [
    "def format_dataset(df_raw,labelname):\n",
    "    df = df_raw.drop(labelname, axis=1)\n",
    "    y = df_raw.labelname\n",
    "    return df,y"
   ]
  },
  {
   "cell_type": "code",
   "execution_count": 11,
   "metadata": {},
   "outputs": [],
   "source": [
    "a=np.zeros(5)"
   ]
  },
  {
   "cell_type": "code",
   "execution_count": 16,
   "metadata": {},
   "outputs": [],
   "source": [
    "df_raw=readAndSavefile(\"../../../iris/\",\"iris.csv\")"
   ]
  },
  {
   "cell_type": "code",
   "execution_count": 17,
   "metadata": {},
   "outputs": [],
   "source": [
    "columnsN=df_raw.columns    "
   ]
  },
  {
   "cell_type": "code",
   "execution_count": 18,
   "metadata": {},
   "outputs": [
    {
     "data": {
      "text/plain": [
       "Index(['sepal_length', 'sepal_width', 'petal_length', 'petal_width',\n",
       "       'species'],\n",
       "      dtype='object')"
      ]
     },
     "execution_count": 18,
     "metadata": {},
     "output_type": "execute_result"
    }
   ],
   "source": [
    "columnsN"
   ]
  },
  {
   "cell_type": "code",
   "execution_count": 38,
   "metadata": {},
   "outputs": [],
   "source": [
    "a=df_raw[\"petal_width\"].value_counts()\n"
   ]
  },
  {
   "cell_type": "code",
   "execution_count": 40,
   "metadata": {},
   "outputs": [
    {
     "data": {
      "text/plain": [
       "list"
      ]
     },
     "execution_count": 40,
     "metadata": {},
     "output_type": "execute_result"
    }
   ],
   "source": [
    "type(a.axes)"
   ]
  },
  {
   "cell_type": "code",
   "execution_count": 32,
   "metadata": {
    "scrolled": true
   },
   "outputs": [
    {
     "data": {
      "text/plain": [
       "[Float64Index([0.2, 1.3, 1.5, 1.8, 1.4, 2.3, 1.0, 0.3, 0.4, 0.1, 2.0, 2.1, 1.2,\n",
       "               1.9, 1.6, 2.5, 2.2, 2.4, 1.1, 1.7, 0.6, 0.5],\n",
       "              dtype='float64')]"
      ]
     },
     "execution_count": 32,
     "metadata": {},
     "output_type": "execute_result"
    }
   ],
   "source": [
    "a.axes"
   ]
  },
  {
   "cell_type": "code",
   "execution_count": 36,
   "metadata": {},
   "outputs": [
    {
     "data": {
      "text/plain": [
       "22"
      ]
     },
     "execution_count": 36,
     "metadata": {},
     "output_type": "execute_result"
    }
   ],
   "source": [
    "len(a.array)"
   ]
  },
  {
   "cell_type": "code",
   "execution_count": 33,
   "metadata": {},
   "outputs": [
    {
     "data": {
      "text/plain": [
       "dtype('float64')"
      ]
     },
     "execution_count": 33,
     "metadata": {},
     "output_type": "execute_result"
    }
   ],
   "source": [
    "np.dtype(np.float64)"
   ]
  },
  {
   "cell_type": "code",
   "execution_count": 34,
   "metadata": {},
   "outputs": [],
   "source": [
    "np.array(dtype = \"float64\")"
   ]
  },
  {
   "cell_type": "code",
   "execution_count": 42,
   "metadata": {},
   "outputs": [],
   "source": [
    "my_list = a.axes"
   ]
  },
  {
   "cell_type": "code",
   "execution_count": 43,
   "metadata": {},
   "outputs": [
    {
     "data": {
      "text/plain": [
       "[Float64Index([0.2, 1.3, 1.5, 1.8, 1.4, 2.3, 1.0, 0.3, 0.4, 0.1, 2.0, 2.1, 1.2,\n",
       "               1.9, 1.6, 2.5, 2.2, 2.4, 1.1, 1.7, 0.6, 0.5],\n",
       "              dtype='float64')]"
      ]
     },
     "execution_count": 43,
     "metadata": {},
     "output_type": "execute_result"
    }
   ],
   "source": [
    "my_list"
   ]
  },
  {
   "cell_type": "code",
   "execution_count": 45,
   "metadata": {},
   "outputs": [],
   "source": [
    "class Disti:\n",
    "    def __init__(self, values, counting):\n",
    "        self.values = values\n",
    "        self.counting = counting"
   ]
  },
  {
   "cell_type": "code",
   "execution_count": 48,
   "metadata": {},
   "outputs": [
    {
     "ename": "SyntaxError",
     "evalue": "invalid syntax (<ipython-input-48-c09b72a904a1>, line 5)",
     "output_type": "error",
     "traceback": [
      "\u001b[0;36m  File \u001b[0;32m\"<ipython-input-48-c09b72a904a1>\"\u001b[0;36m, line \u001b[0;32m5\u001b[0m\n\u001b[0;31m    a = df_raw[columnsN[colind]].value_counts().axes\u001b[0m\n\u001b[0m    ^\u001b[0m\n\u001b[0;31mSyntaxError\u001b[0m\u001b[0;31m:\u001b[0m invalid syntax\n"
     ]
    }
   ],
   "source": [
    "columnsN=df_raw.columns\n",
    "arrRan=np.zeros(len(columnsN)-1)\n",
    "list = []\n",
    "for colind in range(np.shape(columnsN)\n",
    "    a = df_raw[columnsN[colind]].value_counts().axes\n",
    "    b = df_raw[columnsN[colind]].value_counts().array\n",
    "    list.append(Disti(a,b))\n",
    "        "
   ]
  },
  {
   "cell_type": "code",
   "execution_count": 54,
   "metadata": {},
   "outputs": [],
   "source": [
    "columnsN=df_raw.columns\n",
    "list = []\n",
    "for colind in range(len(columnsN)):\n",
    "    a = df_raw[columnsN[colind]].value_counts().axes\n",
    "    b = df_raw[columnsN[colind]].value_counts().array\n",
    "    list.append(Disti(a,b))\n",
    "        "
   ]
  },
  {
   "cell_type": "code",
   "execution_count": 58,
   "metadata": {},
   "outputs": [
    {
     "data": {
      "text/plain": [
       "[Float64Index([3.0, 2.8, 3.2, 3.4, 3.1, 2.9, 2.7, 2.5, 3.5, 3.8, 3.3, 2.6, 2.3,\n",
       "               3.6, 2.4, 2.2, 3.7, 3.9, 4.2, 4.1, 4.4, 2.0, 4.0],\n",
       "              dtype='float64')]"
      ]
     },
     "execution_count": 58,
     "metadata": {},
     "output_type": "execute_result"
    }
   ],
   "source": [
    "list[1].values"
   ]
  },
  {
   "cell_type": "code",
   "execution_count": 64,
   "metadata": {},
   "outputs": [],
   "source": [
    "?pd.DataFrame.append"
   ]
  },
  {
   "cell_type": "code",
   "execution_count": 76,
   "metadata": {},
   "outputs": [
    {
     "name": "stdout",
     "output_type": "stream",
     "text": [
      "[5.1 3.  3.8 1.8 0. ]\n",
      "[4.8 2.9 4.5 2.3 0. ]\n",
      "[5.5 2.9 3.3 0.2 0. ]\n",
      "[6.8 3.  5.1 1.4 0. ]\n",
      "[6.  3.1 1.5 0.3 0. ]\n",
      "[4.9 3.  5.2 1.6 0. ]\n",
      "[6.3 3.3 6.6 1.4 0. ]\n",
      "[5.  3.  1.3 2.4 0. ]\n",
      "[6.1 2.9 5.4 2.5 0. ]\n",
      "[5.2 3.6 3.9 0.4 0. ]\n",
      "[6.  2.6 3.  1.  0. ]\n",
      "[5.2 3.2 4.6 1.  0. ]\n",
      "[5.5 2.6 6.9 2.3 0. ]\n",
      "[5.4 3.  5.1 2.3 0. ]\n",
      "[7.2 3.2 4.9 1.5 0. ]\n",
      "[4.6 3.8 1.4 0.4 0. ]\n",
      "[7.2 2.3 4.8 1.8 0. ]\n",
      "[4.6 3.1 4.5 0.6 0. ]\n",
      "[4.3 3.8 5.2 0.3 0. ]\n",
      "[5.8 3.3 4.3 1.4 0. ]\n",
      "[4.8 3.2 6.3 1.3 0. ]\n",
      "[6.7 2.8 1.  1.3 0. ]\n",
      "[6.  2.7 1.6 1.8 0. ]\n",
      "[4.8 3.4 4.  1.  0. ]\n",
      "[6.6 2.7 6.1 1.6 0. ]\n",
      "[7.2 3.  1.4 2.  0. ]\n",
      "[6.2 3.4 4.8 0.4 0. ]\n",
      "[5.4 3.  4.9 1.8 0. ]\n",
      "[4.9 3.1 1.5 0.1 0. ]\n",
      "[5.9 2.2 3.7 1.8 0. ]\n",
      "[6.8 2.3 1.7 1.6 0. ]\n",
      "[5.6 3.2 1.5 0.2 0. ]\n",
      "[7.6 2.8 1.7 2.  0. ]\n",
      "[6.3 2.2 6.3 1.5 0. ]\n",
      "[4.4 3.  5.6 0.2 0. ]\n",
      "[5.7 3.8 5.  1.3 0. ]\n",
      "[5.1 3.  4.9 2.  0. ]\n",
      "[6.7 3.1 1.2 1.2 0. ]\n",
      "[5.5 2.8 5.1 2.4 0. ]\n",
      "[5.6 3.4 1.4 0.4 0. ]\n",
      "[5.6 3.7 5.4 1.2 0. ]\n",
      "[6.1 4.4 1.3 1.4 0. ]\n",
      "[6.5 3.  1.4 2.4 0. ]\n",
      "[4.9 3.3 4.8 1.3 0. ]\n",
      "[4.9 2.4 5.3 1.3 0. ]\n",
      "[5.8 3.  1.3 0.2 0. ]\n",
      "[6.2 3.3 4.2 2.3 0. ]\n",
      "[6.3 3.4 4.3 0.6 0. ]\n",
      "[6.2 3.  3.5 1.4 0. ]\n",
      "[4.9 2.8 1.7 1.3 0. ]\n",
      "[4.8 3.1 4.6 0.2 0. ]\n",
      "[6.8 3.  5.9 0.2 0. ]\n",
      "[6.4 3.  5.9 0.5 0. ]\n",
      "[5.4 2.4 4.1 2.  0. ]\n",
      "[5.1 2.8 1.9 1.3 0. ]\n",
      "[4.8 3.4 1.3 0.2 0. ]\n",
      "[5.8 2.3 1.4 0.2 0. ]\n",
      "[5.8 2.7 4.4 1.5 0. ]\n",
      "[5.7 4.1 4.7 1.7 0. ]\n",
      "[5.9 3.4 4.7 0.2 0. ]\n",
      "[6.7 3.  1.7 0.2 0. ]\n",
      "[5.  3.  1.6 0.2 0. ]\n",
      "[6.1 3.2 1.5 0.1 0. ]\n",
      "[6.2 2.3 4.5 0.3 0. ]\n",
      "[6.4 2.7 5.7 2.5 0. ]\n",
      "[6.8 2.7 4.4 1.2 0. ]\n",
      "[5.  4.4 4.9 2.5 0. ]\n",
      "[6.4 3.1 4.4 2.1 0. ]\n",
      "[5.4 3.3 1.5 2.4 0. ]\n",
      "[6.3 3.  5.6 2.1 0. ]\n",
      "[6.7 3.2 5.1 0.1 0. ]\n",
      "[5.1 2.7 4.5 2.1 0. ]\n",
      "[6.  3.4 1.4 1.8 0. ]\n",
      "[6.1 3.  4.2 2.  0. ]\n",
      "[4.6 3.7 4.7 1.3 0. ]\n",
      "[6.4 3.  4.4 0.2 0. ]\n",
      "[5.5 2.7 1.9 2.1 0. ]\n",
      "[5.3 4.4 1.4 1.5 0. ]\n",
      "[6.7 3.1 1.2 2.4 0. ]\n",
      "[6.6 3.6 4.7 0.2 0. ]\n",
      "[6.3 4.4 5.6 2.1 0. ]\n",
      "[5.9 3.  5.9 1.9 0. ]\n",
      "[5.  3.8 1.3 0.4 0. ]\n",
      "[5.7 3.  4.8 2.1 0. ]\n",
      "[4.7 2.5 5.6 2.1 0. ]\n",
      "[6.7 2.9 1.5 0.3 0. ]\n",
      "[5.9 4.4 4.7 1.3 0. ]\n",
      "[6.3 2.8 5.1 0.2 0. ]\n",
      "[5.7 4.4 5.1 1.1 0. ]\n",
      "[5.1 2.3 1.5 2.3 0. ]\n",
      "[4.9 3.2 5.1 1.5 0. ]\n",
      "[6.1 3.2 5.6 0.2 0. ]\n",
      "[4.9 2.4 4.3 0.2 0. ]\n",
      "[6.1 3.5 1.6 1.4 0. ]\n",
      "[5.  2.8 5.2 0.4 0. ]\n",
      "[6.2 2.9 5.4 0.2 0. ]\n",
      "[5.1 3.3 5.6 1.3 0. ]\n",
      "[6.3 2.3 1.3 1.3 0. ]\n",
      "[5.2 3.3 1.5 0.2 0. ]\n",
      "[5.  2.2 4.8 2.1 0. ]\n",
      "[4.9 3.9 6.1 1.4 0. ]\n",
      "[5.  3.  5.6 1.8 0. ]\n",
      "[6.3 2.7 5.1 2.3 0. ]\n",
      "[6.  3.4 1.5 0.2 0. ]\n",
      "[4.8 3.  5.4 1.9 0. ]\n",
      "[6.2 3.1 1.2 1.9 0. ]\n",
      "[5.2 2.5 4.5 2.3 0. ]\n",
      "[5.8 3.6 1.4 1.3 0. ]\n",
      "[4.9 3.2 5.  2.3 0. ]\n",
      "[5.2 2.9 4.  1.3 0. ]\n",
      "[6.3 3.8 1.3 1.5 0. ]\n",
      "[6.3 3.1 1.5 0.2 0. ]\n",
      "[5.6 3.5 4.7 1.2 0. ]\n",
      "[6.1 2.4 5.1 0.4 0. ]\n",
      "[6.  3.2 4.  2.1 0. ]\n",
      "[7.1 3.  1.6 1.2 0. ]\n",
      "[5.  2.9 5.3 0.3 0. ]\n",
      "[6.3 3.  5.6 0.2 0. ]\n",
      "[4.8 3.1 4.9 1.8 0. ]\n",
      "[7.7 3.1 4.9 0.2 0. ]\n",
      "[4.8 3.  1.5 1.3 0. ]\n",
      "[4.4 3.6 5.9 2.3 0. ]\n",
      "[6.4 3.  6.7 2.3 0. ]\n",
      "[4.6 2.4 4.5 0.2 0. ]\n",
      "[6.9 2.8 5.8 2.1 0. ]\n",
      "[7.3 3.2 3.8 0.4 0. ]\n",
      "[5.5 2.9 5.6 0.1 0. ]\n",
      "[7.7 3.  4.6 0.2 0. ]\n",
      "[4.6 2.8 4.5 1.1 0. ]\n",
      "[6.9 3.3 1.5 0.4 0. ]\n",
      "[4.6 3.1 4.7 2.1 0. ]\n",
      "[6.3 3.8 5.1 0.1 0. ]\n",
      "[6.3 2.8 4.9 0.3 0. ]\n",
      "[6.5 2.7 4.  0.2 0. ]\n",
      "[5.6 2.5 5.3 0.4 0. ]\n",
      "[6.4 3.7 4.9 2.4 0. ]\n",
      "[6.4 3.2 5.6 2.4 0. ]\n",
      "[6.3 3.  5.4 1.  0. ]\n",
      "[5.2 3.1 1.6 1.5 0. ]\n",
      "[4.9 3.4 1.4 0.3 0. ]\n",
      "[6.  2.5 4.1 1.  0. ]\n",
      "[5.4 2.8 4.5 1.6 0. ]\n",
      "[5.  2.5 5.2 2.2 0. ]\n",
      "[5.5 2.6 3.9 0.2 0. ]\n",
      "[6.5 2.  1.4 0.1 0. ]\n",
      "[4.8 3.4 4.9 2.3 0. ]\n",
      "[4.6 2.7 1.5 0.2 0. ]\n",
      "[4.6 3.1 1.4 2.2 0. ]\n",
      "[6.3 3.  1.6 1.4 0. ]\n",
      "[6.  4.1 3.9 1.3 0. ]\n"
     ]
    }
   ],
   "source": [
    "arrRan=np.zeros(len(columnsN)-1)\n",
    "\n",
    "    \n",
    "columns = columnsN\n",
    "df = pd.DataFrame(columns=columns)\n",
    "dd\n",
    "for i in range(len(df_raw)):\n",
    "    for colind in range(len(columnsN)-1):\n",
    "        arrRan[colind]=random.choices(np.reshape(np.array(list[colind].values),(np.shape(list[colind].values)[1],)),weights=np.array(list[colind].counting))[0]\n",
    "    arr = np.append(arrRan,0)\n",
    "    df.loc[i]= (arr)\n",
    "    "
   ]
  },
  {
   "cell_type": "code",
   "execution_count": 81,
   "metadata": {},
   "outputs": [],
   "source": [
    "def synthetic_MarginalData(df_raw):\n",
    "    columnsN=df_raw.columns\n",
    "    list = []\n",
    "    for colind in range(len(columnsN)):\n",
    "        a = df_raw[columnsN[colind]].value_counts().axes\n",
    "        b = df_raw[columnsN[colind]].value_counts().array\n",
    "        list.append(Disti(a,b))\n",
    "    arrRan=np.zeros(len(columnsN)-1)\n",
    "\n",
    "    \n",
    "    columns = columnsN\n",
    "    df = pd.DataFrame(columns=columns)\n",
    "\n",
    "    for i in range(len(df_raw)):\n",
    "        for colind in range(len(columnsN)-1):\n",
    "            arrRan[colind]=random.choices(np.reshape(np.array(list[colind].values),(np.shape(list[colind].values)[1],)),weights=np.array(list[colind].counting))[0]\n",
    "        arr = np.append(arrRan,0)\n",
    "        df.loc[i]= (arr)\n",
    "\n",
    "\n",
    "    return df\n",
    "    "
   ]
  },
  {
   "cell_type": "code",
   "execution_count": 77,
   "metadata": {},
   "outputs": [
    {
     "data": {
      "text/html": [
       "<div>\n",
       "<style scoped>\n",
       "    .dataframe tbody tr th:only-of-type {\n",
       "        vertical-align: middle;\n",
       "    }\n",
       "\n",
       "    .dataframe tbody tr th {\n",
       "        vertical-align: top;\n",
       "    }\n",
       "\n",
       "    .dataframe thead th {\n",
       "        text-align: right;\n",
       "    }\n",
       "</style>\n",
       "<table border=\"1\" class=\"dataframe\">\n",
       "  <thead>\n",
       "    <tr style=\"text-align: right;\">\n",
       "      <th></th>\n",
       "      <th>sepal_length</th>\n",
       "      <th>sepal_width</th>\n",
       "      <th>petal_length</th>\n",
       "      <th>petal_width</th>\n",
       "      <th>species</th>\n",
       "    </tr>\n",
       "  </thead>\n",
       "  <tbody>\n",
       "    <tr>\n",
       "      <th>0</th>\n",
       "      <td>5.1</td>\n",
       "      <td>3.0</td>\n",
       "      <td>3.8</td>\n",
       "      <td>1.8</td>\n",
       "      <td>0.0</td>\n",
       "    </tr>\n",
       "    <tr>\n",
       "      <th>1</th>\n",
       "      <td>4.8</td>\n",
       "      <td>2.9</td>\n",
       "      <td>4.5</td>\n",
       "      <td>2.3</td>\n",
       "      <td>0.0</td>\n",
       "    </tr>\n",
       "    <tr>\n",
       "      <th>2</th>\n",
       "      <td>5.5</td>\n",
       "      <td>2.9</td>\n",
       "      <td>3.3</td>\n",
       "      <td>0.2</td>\n",
       "      <td>0.0</td>\n",
       "    </tr>\n",
       "    <tr>\n",
       "      <th>3</th>\n",
       "      <td>6.8</td>\n",
       "      <td>3.0</td>\n",
       "      <td>5.1</td>\n",
       "      <td>1.4</td>\n",
       "      <td>0.0</td>\n",
       "    </tr>\n",
       "    <tr>\n",
       "      <th>4</th>\n",
       "      <td>6.0</td>\n",
       "      <td>3.1</td>\n",
       "      <td>1.5</td>\n",
       "      <td>0.3</td>\n",
       "      <td>0.0</td>\n",
       "    </tr>\n",
       "    <tr>\n",
       "      <th>...</th>\n",
       "      <td>...</td>\n",
       "      <td>...</td>\n",
       "      <td>...</td>\n",
       "      <td>...</td>\n",
       "      <td>...</td>\n",
       "    </tr>\n",
       "    <tr>\n",
       "      <th>145</th>\n",
       "      <td>4.8</td>\n",
       "      <td>3.4</td>\n",
       "      <td>4.9</td>\n",
       "      <td>2.3</td>\n",
       "      <td>0.0</td>\n",
       "    </tr>\n",
       "    <tr>\n",
       "      <th>146</th>\n",
       "      <td>4.6</td>\n",
       "      <td>2.7</td>\n",
       "      <td>1.5</td>\n",
       "      <td>0.2</td>\n",
       "      <td>0.0</td>\n",
       "    </tr>\n",
       "    <tr>\n",
       "      <th>147</th>\n",
       "      <td>4.6</td>\n",
       "      <td>3.1</td>\n",
       "      <td>1.4</td>\n",
       "      <td>2.2</td>\n",
       "      <td>0.0</td>\n",
       "    </tr>\n",
       "    <tr>\n",
       "      <th>148</th>\n",
       "      <td>6.3</td>\n",
       "      <td>3.0</td>\n",
       "      <td>1.6</td>\n",
       "      <td>1.4</td>\n",
       "      <td>0.0</td>\n",
       "    </tr>\n",
       "    <tr>\n",
       "      <th>149</th>\n",
       "      <td>6.0</td>\n",
       "      <td>4.1</td>\n",
       "      <td>3.9</td>\n",
       "      <td>1.3</td>\n",
       "      <td>0.0</td>\n",
       "    </tr>\n",
       "  </tbody>\n",
       "</table>\n",
       "<p>150 rows × 5 columns</p>\n",
       "</div>"
      ],
      "text/plain": [
       "     sepal_length  sepal_width  petal_length  petal_width  species\n",
       "0             5.1          3.0           3.8          1.8      0.0\n",
       "1             4.8          2.9           4.5          2.3      0.0\n",
       "2             5.5          2.9           3.3          0.2      0.0\n",
       "3             6.8          3.0           5.1          1.4      0.0\n",
       "4             6.0          3.1           1.5          0.3      0.0\n",
       "..            ...          ...           ...          ...      ...\n",
       "145           4.8          3.4           4.9          2.3      0.0\n",
       "146           4.6          2.7           1.5          0.2      0.0\n",
       "147           4.6          3.1           1.4          2.2      0.0\n",
       "148           6.3          3.0           1.6          1.4      0.0\n",
       "149           6.0          4.1           3.9          1.3      0.0\n",
       "\n",
       "[150 rows x 5 columns]"
      ]
     },
     "execution_count": 77,
     "metadata": {},
     "output_type": "execute_result"
    }
   ],
   "source": [
    "df"
   ]
  },
  {
   "cell_type": "code",
   "execution_count": 84,
   "metadata": {},
   "outputs": [
    {
     "data": {
      "text/html": [
       "<div>\n",
       "<style scoped>\n",
       "    .dataframe tbody tr th:only-of-type {\n",
       "        vertical-align: middle;\n",
       "    }\n",
       "\n",
       "    .dataframe tbody tr th {\n",
       "        vertical-align: top;\n",
       "    }\n",
       "\n",
       "    .dataframe thead th {\n",
       "        text-align: right;\n",
       "    }\n",
       "</style>\n",
       "<table border=\"1\" class=\"dataframe\">\n",
       "  <thead>\n",
       "    <tr style=\"text-align: right;\">\n",
       "      <th></th>\n",
       "      <th>sepal_length</th>\n",
       "      <th>sepal_width</th>\n",
       "      <th>petal_length</th>\n",
       "      <th>petal_width</th>\n",
       "      <th>species</th>\n",
       "    </tr>\n",
       "  </thead>\n",
       "  <tbody>\n",
       "    <tr>\n",
       "      <th>0</th>\n",
       "      <td>6.4</td>\n",
       "      <td>3.4</td>\n",
       "      <td>4.6</td>\n",
       "      <td>2.1</td>\n",
       "      <td>0.0</td>\n",
       "    </tr>\n",
       "    <tr>\n",
       "      <th>1</th>\n",
       "      <td>4.4</td>\n",
       "      <td>2.9</td>\n",
       "      <td>5.1</td>\n",
       "      <td>1.2</td>\n",
       "      <td>0.0</td>\n",
       "    </tr>\n",
       "    <tr>\n",
       "      <th>2</th>\n",
       "      <td>5.5</td>\n",
       "      <td>3.7</td>\n",
       "      <td>6.7</td>\n",
       "      <td>0.3</td>\n",
       "      <td>0.0</td>\n",
       "    </tr>\n",
       "    <tr>\n",
       "      <th>3</th>\n",
       "      <td>5.1</td>\n",
       "      <td>2.7</td>\n",
       "      <td>1.3</td>\n",
       "      <td>2.1</td>\n",
       "      <td>0.0</td>\n",
       "    </tr>\n",
       "    <tr>\n",
       "      <th>4</th>\n",
       "      <td>6.8</td>\n",
       "      <td>3.0</td>\n",
       "      <td>4.7</td>\n",
       "      <td>1.3</td>\n",
       "      <td>0.0</td>\n",
       "    </tr>\n",
       "    <tr>\n",
       "      <th>...</th>\n",
       "      <td>...</td>\n",
       "      <td>...</td>\n",
       "      <td>...</td>\n",
       "      <td>...</td>\n",
       "      <td>...</td>\n",
       "    </tr>\n",
       "    <tr>\n",
       "      <th>145</th>\n",
       "      <td>6.0</td>\n",
       "      <td>3.0</td>\n",
       "      <td>4.7</td>\n",
       "      <td>1.9</td>\n",
       "      <td>0.0</td>\n",
       "    </tr>\n",
       "    <tr>\n",
       "      <th>146</th>\n",
       "      <td>5.9</td>\n",
       "      <td>3.3</td>\n",
       "      <td>5.8</td>\n",
       "      <td>0.2</td>\n",
       "      <td>0.0</td>\n",
       "    </tr>\n",
       "    <tr>\n",
       "      <th>147</th>\n",
       "      <td>6.3</td>\n",
       "      <td>3.2</td>\n",
       "      <td>1.5</td>\n",
       "      <td>0.2</td>\n",
       "      <td>0.0</td>\n",
       "    </tr>\n",
       "    <tr>\n",
       "      <th>148</th>\n",
       "      <td>5.7</td>\n",
       "      <td>3.2</td>\n",
       "      <td>5.6</td>\n",
       "      <td>0.2</td>\n",
       "      <td>0.0</td>\n",
       "    </tr>\n",
       "    <tr>\n",
       "      <th>149</th>\n",
       "      <td>5.2</td>\n",
       "      <td>2.8</td>\n",
       "      <td>3.6</td>\n",
       "      <td>0.2</td>\n",
       "      <td>0.0</td>\n",
       "    </tr>\n",
       "  </tbody>\n",
       "</table>\n",
       "<p>150 rows × 5 columns</p>\n",
       "</div>"
      ],
      "text/plain": [
       "     sepal_length  sepal_width  petal_length  petal_width  species\n",
       "0             6.4          3.4           4.6          2.1      0.0\n",
       "1             4.4          2.9           5.1          1.2      0.0\n",
       "2             5.5          3.7           6.7          0.3      0.0\n",
       "3             5.1          2.7           1.3          2.1      0.0\n",
       "4             6.8          3.0           4.7          1.3      0.0\n",
       "..            ...          ...           ...          ...      ...\n",
       "145           6.0          3.0           4.7          1.9      0.0\n",
       "146           5.9          3.3           5.8          0.2      0.0\n",
       "147           6.3          3.2           1.5          0.2      0.0\n",
       "148           5.7          3.2           5.6          0.2      0.0\n",
       "149           5.2          2.8           3.6          0.2      0.0\n",
       "\n",
       "[150 rows x 5 columns]"
      ]
     },
     "execution_count": 84,
     "metadata": {},
     "output_type": "execute_result"
    }
   ],
   "source": [
    "synthetic_MarginalData(df_raw)"
   ]
  },
  {
   "cell_type": "code",
   "execution_count": null,
   "metadata": {},
   "outputs": [],
   "source": [
    "def makeDataset_UnSupervRF(df_raw,labelname):\n",
    "    df_raw[[labelname]]=1\n",
    "    new_df=pd.concat([df_raw , synthetic_MarginalData(df_raw)])\n",
    "    return new_df"
   ]
  }
 ],
 "metadata": {
  "kernelspec": {
   "display_name": "Python 3",
   "language": "python",
   "name": "python3"
  },
  "language_info": {
   "codemirror_mode": {
    "name": "ipython",
    "version": 3
   },
   "file_extension": ".py",
   "mimetype": "text/x-python",
   "name": "python",
   "nbconvert_exporter": "python",
   "pygments_lexer": "ipython3",
   "version": "3.7.9"
  }
 },
 "nbformat": 4,
 "nbformat_minor": 4
}
